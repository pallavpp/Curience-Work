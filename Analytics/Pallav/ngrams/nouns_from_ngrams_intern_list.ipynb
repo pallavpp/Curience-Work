{
 "cells": [
  {
   "cell_type": "code",
   "execution_count": 1,
   "metadata": {},
   "outputs": [],
   "source": [
    "# standard imports\n",
    "import os\n",
    "import sys\n",
    "import requests\n",
    "from bs4 import BeautifulSoup\n",
    "import pandas as pd\n",
    "\n",
    "# natural language processing: n-gram ranking\n",
    "import re\n",
    "import nltk\n",
    "import unicodedata\n",
    "from nltk.corpus import stopwords"
   ]
  },
  {
   "cell_type": "code",
   "execution_count": null,
   "metadata": {},
   "outputs": [],
   "source": [
    "# pandas display settings\n",
    "pd.options.display.max_columns = None\n",
    "pd.options.display.max_rows = None\n",
    "pd.options.display.width = None"
   ]
  },
  {
   "cell_type": "code",
   "execution_count": 2,
   "metadata": {},
   "outputs": [],
   "source": [
    "# store all stopwords\n",
    "additional_stopwords = []\n",
    "stopwords = nltk.corpus.stopwords.words('english') + additional_stopwords"
   ]
  },
  {
   "cell_type": "code",
   "execution_count": 3,
   "metadata": {},
   "outputs": [],
   "source": [
    "# important variables\n",
    "curr_path = os.path.abspath(\"nouns_from_ngrams_intern_list.ipynb\")\n",
    "\n",
    "# csv that will contain all blog links\n",
    "csv_path = os.path.abspath(os.path.join(curr_path, \"../../../..\", \"Read_Files/fashion_intern_forecasting_website_list.csv\"))\n",
    "df = pd.read_csv(csv_path)\n",
    "no_of_blogs = df.shape[0]\n",
    "\n",
    "# number of ngrams to consider from each blog\n",
    "terms_to_consider = 15\n",
    "\n",
    "# lists for storing data, _i stands for i-gram data\n",
    "successful_url_list = []\n",
    "noun_lists_1 = []\n",
    "noun_lists_2 = []\n",
    "noun_lists_3 = []\n",
    "occurence_count_1 = {}\n",
    "occurence_count_2 = {}\n",
    "occurence_count_3 = {}"
   ]
  },
  {
   "cell_type": "code",
   "execution_count": 4,
   "metadata": {},
   "outputs": [],
   "source": [
    "# function to get all page content from html response\n",
    "def get_page_text(html_response):\n",
    "    # getting page content\n",
    "    html_text = html_response.text\n",
    "    soup = BeautifulSoup(html_text, \"lxml\")\n",
    "\n",
    "    # various sources of text\n",
    "    para_text = [element.text.strip() for element in soup.find_all(\"p\")]\n",
    "    header_text = [element.text.strip() for element in soup.find_all([\"h1\", \"h2\", \"h3\", \"h4\", \"h5\", \"h6\"])]\n",
    "    span_text = [element.text.strip() for element in soup.find_all(\"span\")]\n",
    "    all_text = para_text + header_text + span_text\n",
    "    \n",
    "    return all_text"
   ]
  },
  {
   "cell_type": "code",
   "execution_count": 5,
   "metadata": {},
   "outputs": [],
   "source": [
    "# function to cleanup text and find words in it\n",
    "def extract_words_from_text(text):\n",
    "    # text cleaning\n",
    "    text = (unicodedata.normalize('NFKD', text).encode('ascii', 'ignore').decode('utf-8', 'ignore'))\n",
    "    words = re.sub(r'[^\\w\\s]', '', text).split()\n",
    "\n",
    "    # word list\n",
    "    return [word for word in words if word.lower() not in stopwords]"
   ]
  },
  {
   "cell_type": "code",
   "execution_count": 6,
   "metadata": {},
   "outputs": [],
   "source": [
    "# function to find most frequent ngrams from word list\n",
    "def find_ngrams(words, n):\n",
    "    # find term frequency\n",
    "    series = (pd.Series(nltk.ngrams(words, n)).value_counts())[:terms_to_consider]\n",
    "    \n",
    "    # store top results\n",
    "    ngrams = []\n",
    "    for tup in series.index:\n",
    "        ngrams.append(\" \".join(tup))\n",
    "    \n",
    "    return ngrams"
   ]
  },
  {
   "cell_type": "code",
   "execution_count": 7,
   "metadata": {},
   "outputs": [],
   "source": [
    "# function to return words having capital letters\n",
    "def find_nouns(ngrams):\n",
    "    nouns = [ngram for ngram in ngrams if not ngram.islower()]\n",
    "    return nouns"
   ]
  },
  {
   "cell_type": "code",
   "execution_count": 8,
   "metadata": {},
   "outputs": [],
   "source": [
    "# function to find occurence of each noun\n",
    "def fill_occurence_dict(noun_lists):\n",
    "    dictionary = {}\n",
    "\n",
    "    # initialize dictionary\n",
    "    for noun_list in noun_lists:\n",
    "        for noun in noun_list:\n",
    "            dictionary[noun] = []\n",
    "\n",
    "    # fill unique occurence\n",
    "    for i in range(len(noun_lists)):\n",
    "        for noun in noun_lists[i]:\n",
    "            if i not in dictionary[noun]:\n",
    "                dictionary[noun].append(i)\n",
    "\n",
    "    return dictionary"
   ]
  },
  {
   "cell_type": "code",
   "execution_count": 14,
   "metadata": {},
   "outputs": [],
   "source": [
    "# function to print frequently occuring nouns\n",
    "def print_top_nouns(dictionary):\n",
    "    df_top_nouns = pd.DataFrame(columns=[\"ngram\", \"occurence\"])\n",
    "    for key, value in dictionary.items():\n",
    "        if len(value) > 1:\n",
    "            df_top_nouns.loc[len(df_top_nouns.index)] = [key, len(value)]\n",
    "    df_top_nouns.sort_values(\"occurence\", ascending=False, inplace=True)\n",
    "    df_top_nouns.reset_index(inplace=True, drop=True)\n",
    "    print(df_top_nouns)\n",
    "    print()"
   ]
  },
  {
   "cell_type": "code",
   "execution_count": 15,
   "metadata": {},
   "outputs": [],
   "source": [
    "# function to print blog wise top results\n",
    "def print_blog_nouns(noun_lists):\n",
    "    for i in range(len(successful_url_list)):\n",
    "        print(successful_url_list[i])\n",
    "        for noun in noun_lists[i]:\n",
    "            print(noun)\n",
    "        print()"
   ]
  },
  {
   "cell_type": "code",
   "execution_count": 11,
   "metadata": {},
   "outputs": [],
   "source": [
    "# iterate through all blogs\n",
    "for blog_link in df[\"Website URL\"]:\n",
    "    # getting page response\n",
    "    html_response = requests.get(blog_link)\n",
    "    if(html_response.status_code != 200):\n",
    "        continue\n",
    "\n",
    "    # get page content\n",
    "    all_text = get_page_text(html_response)\n",
    "    # get words list\n",
    "    words = extract_words_from_text(\" \".join(all_text))\n",
    "    # get top ngrams for each blog\n",
    "    ngrams_1 = find_ngrams(words, 1)\n",
    "    ngrams_2 = find_ngrams(words, 2)\n",
    "    ngrams_3 = find_ngrams(words, 3)\n",
    "    # get nouns from ngrams\n",
    "    nouns_1 = find_nouns(ngrams_1)\n",
    "    nouns_2 = find_nouns(ngrams_2)\n",
    "    nouns_3 = find_nouns(ngrams_3)\n",
    "\n",
    "    # store data\n",
    "    successful_url_list.append(blog_link)\n",
    "    noun_lists_1.append(nouns_1)\n",
    "    noun_lists_2.append(nouns_2)\n",
    "    noun_lists_3.append(nouns_3)"
   ]
  },
  {
   "cell_type": "code",
   "execution_count": 12,
   "metadata": {},
   "outputs": [],
   "source": [
    "# fill all occurence dictionaries\n",
    "occurence_count_1 = fill_occurence_dict(noun_lists_1)\n",
    "occurence_count_2 = fill_occurence_dict(noun_lists_2)\n",
    "occurence_count_3 = fill_occurence_dict(noun_lists_3)"
   ]
  },
  {
   "cell_type": "code",
   "execution_count": 16,
   "metadata": {},
   "outputs": [],
   "source": [
    "# print all output\n",
    "# set output path\n",
    "output_path = os.path.abspath(os.path.join(curr_path, \"../..\", \"Outputs/nouns_from_ngrams_intern_list.txt\"))\n",
    "\n",
    "# write to file\n",
    "original_stdout = sys.stdout\n",
    "with open(output_path, \"w\") as f:\n",
    "    sys.stdout = f\n",
    "\n",
    "    print(\"NGRAMS OCCURING IN MULTIPLE BLOGS:\")\n",
    "    print()\n",
    "    # print most frequent nouns\n",
    "    print(\"For 1-grams:\")    \n",
    "    print_top_nouns(occurence_count_1)\n",
    "    print(\"For 2-grams:\")\n",
    "    print_top_nouns(occurence_count_2)\n",
    "    print(\"For 3-grams:\")\n",
    "    print_top_nouns(occurence_count_3)\n",
    "\n",
    "    print()\n",
    "    print()\n",
    "    print()\n",
    "    \n",
    "    print(\"INDIVIDUAL BLOG ANALYSIS:\")\n",
    "    print()\n",
    "    # print most frequent nouns per blog\n",
    "    print(\"For 1-grams:\")\n",
    "    print()\n",
    "    print_blog_nouns(noun_lists_1)\n",
    "    print()\n",
    "    print()\n",
    "    print(\"For 2-grams:\")\n",
    "    print()\n",
    "    print_blog_nouns(noun_lists_2)\n",
    "    print()\n",
    "    print()\n",
    "    print(\"For 3-grams:\")\n",
    "    print()\n",
    "    print_blog_nouns(noun_lists_3)\n",
    "    \n",
    "    # reset stdout\n",
    "    sys.stdout = original_stdout"
   ]
  },
  {
   "cell_type": "code",
   "execution_count": null,
   "metadata": {},
   "outputs": [],
   "source": []
  }
 ],
 "metadata": {
  "interpreter": {
   "hash": "473418c0e77683684e48f36ee0a4eb17769bc02766a503d3556a3480c1d685e5"
  },
  "kernelspec": {
   "display_name": "Python 3.8.8 ('base')",
   "language": "python",
   "name": "python3"
  },
  "language_info": {
   "codemirror_mode": {
    "name": "ipython",
    "version": 3
   },
   "file_extension": ".py",
   "mimetype": "text/x-python",
   "name": "python",
   "nbconvert_exporter": "python",
   "pygments_lexer": "ipython3",
   "version": "3.8.8"
  },
  "orig_nbformat": 4
 },
 "nbformat": 4,
 "nbformat_minor": 2
}
