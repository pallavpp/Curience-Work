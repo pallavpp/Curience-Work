{
 "cells": [
  {
   "cell_type": "code",
   "execution_count": 1,
   "metadata": {},
   "outputs": [],
   "source": [
    "# standard imports\n",
    "import os\n",
    "import requests\n",
    "from bs4 import BeautifulSoup\n",
    "import pandas as pd\n",
    "import matplotlib.pyplot as plt\n",
    "\n",
    "# natural language processing\n",
    "import re\n",
    "import nltk\n",
    "import unicodedata\n",
    "from nltk.corpus import stopwords\n",
    "from sklearn.feature_extraction.text import TfidfVectorizer"
   ]
  },
  {
   "cell_type": "code",
   "execution_count": 2,
   "metadata": {},
   "outputs": [],
   "source": [
    "# get all links\n",
    "curr_path = os.path.abspath(\"testing_tfidf_vogue.ipynb\")\n",
    "df_path = os.path.abspath(os.path.join(curr_path, \"../../..\", \"Read_Files/fashion_intern_forecasting_website_list.csv\"))\n",
    "df = pd.read_csv(df_path)\n",
    "count = df.shape[0]"
   ]
  },
  {
   "cell_type": "code",
   "execution_count": 3,
   "metadata": {},
   "outputs": [],
   "source": [
    "# read and store all specifications in lowercase\n",
    "specifications_path = os.path.abspath(os.path.join(os.path.abspath(\"testing_vocab_matching_vogue.ipynb\"), \"../../..\", \"Read_Files\", \"fashion_vocabulary_specifications_list.txt\"))\n",
    "with open(specifications_path) as file:\n",
    "    specifications = [line.strip().lower() for line in file]\n",
    "specifications.reverse()"
   ]
  },
  {
   "cell_type": "code",
   "execution_count": 4,
   "metadata": {},
   "outputs": [],
   "source": [
    "# store all stopwords\n",
    "additional_stopwords = []\n",
    "stopwords = nltk.corpus.stopwords.words('english') + additional_stopwords"
   ]
  },
  {
   "cell_type": "markdown",
   "metadata": {},
   "source": [
    "### Getting Page Content"
   ]
  },
  {
   "cell_type": "code",
   "execution_count": 5,
   "metadata": {},
   "outputs": [],
   "source": [
    "# getting page content\n",
    "html_response = requests.get(\"https://www.vogue.co.uk/fashion/gallery/spring-summer-2022-fashion-trends\")\n",
    "html_text = html_response.text\n",
    "soup = BeautifulSoup(html_text, \"lxml\")"
   ]
  },
  {
   "cell_type": "code",
   "execution_count": 6,
   "metadata": {},
   "outputs": [],
   "source": [
    "# various sources of text\n",
    "para_text = [element.text.strip() for element in soup.find_all(\"p\")]\n",
    "header_text = [element.text.strip() for element in soup.find_all([\"h1\", \"h2\", \"h3\", \"h4\", \"h5\", \"h6\"])]\n",
    "span_text = [element.text.strip() for element in soup.find_all(\"span\")]\n",
    "all_text = para_text + header_text + span_text"
   ]
  },
  {
   "cell_type": "code",
   "execution_count": 7,
   "metadata": {},
   "outputs": [
    {
     "data": {
      "text/plain": [
       "[' One can only imagine how Roland would react to the acres of flesh on show this past September, as dictated by the dominant spring/summer 2022 fashion trend',\n",
       " ' To put it in terms that Cardi B would appreciate, when it comes to the new season, fashion is feeling all “macaroni in a pot”',\n",
       " ' Short, sheer and second-skin takes on sexy are back',\n",
       " ' But, after a hot-vax summer during which young people threw their insecurities to the wind, embracing a daring vein of body positivity that had previously seemed like well-merchandised marketing spiel, designers found new ways to interpret sex',\n",
       " ' Young guns Nensi Dojaka and Supriya Lele have made this hedonistic approach their calling card, and their sheer, body-wrapping designs made headlines in London',\n",
       " ' Ludovic de Saint Sernin, the young designer with a small but devoted following, showed a collection made up of tiny strips of leather braided together',\n",
       " ' It was sponsored by Pornhub; a collaboration with the porn site is due in early 2022',\n",
       " ' Read more: Autumn/Winter 2021 Fashion Trends The big boys were feeling sexy, too',\n",
       " ' Donatella Versace can always be relied upon to inject some wiggle into fashion’s walk, and for spring she embraced thigh-slits, midriffs, chainmail and latex',\n",
       " ' Ditto Gucci, whose transparent lace mini dresses, latex bustiers, fishnets-and-suspender-belts and sex-toy accessories explored the “nuances of sensuality” in a blockbuster show in LA',\n",
       " ' “Seduction, Stripped Down” was the title of Prada’s collection and, true to form, it poked fun at conventional interpretations of allure, exploring corsetry in itchy schoolmarmish wool and offsetting micro hemlines with demure kitten-heels',\n",
       " ' “We thought of words like elegant – but this feels so old-fashioned,” Prada said in the show notes',\n",
       " ' It should be noted that fashion is finally wising up to the fact that sexy comes in all shapes, skin tones and sizes',\n",
       " ' About time! Models Precious Lee, Alva Claire, Paloma Elsesser and Yumi Nu were among the most in-demand models for spring, bringing some much-needed body diversity to the runways',\n",
       " ' By Alice Cary A sense of loosening up permeated the collections, even when sex (or size) wasn’t on the brain',\n",
       " ' Across the board, colour comes in juicy shots – unless it’s wiped completely, in favour of head-to-toe white',\n",
       " ' Trains and capes, ripe for making an entrance (or, more accurately, an exit) proliferate with an urgency not seen since the mullet hems of the 2010s',\n",
       " ' And say hello to the biker jacket, that once ubiquitous model-off-duty staple that suddenly feels right again',\n",
       " ' And you would be partly right: spring/summer 2022 was a chaotic, creative mix of idiosyncratic takes on what the post-pandemic world wants right now',\n",
       " ' Nowhere was this frenetic energy more evident than at Louis Vuitton, where Nicolas Ghesquière imagined “the figure of a vampire who travels through the ages, adapting to dress codes of the era',\n",
       " '” Think 18th-century pannier dresses with their hems chopped to reveal red satin superhero-style boots; cape-tuxedo hybrids paired with indigo jeans; gold-braid embellished waistcoats with short cargo skirts and floor-sweeping Morticia Addams capes',\n",
       " ' Trends are dead, long live trends',\n",
       " ' Here, the 10 biggest spring/summer 2022 fashion trends you need to know about',\n",
       " ' Just when you thought the hemlines couldn’t go higher, well, along came Miuccia Prada with a Miu Miu show that made you want to take a pair of dressmaking shears to every skirt you own',\n",
       " ' Worn low on the hips and cut to a strip that just about covers the chuddies (that’s underpants, for all you international readers), Miu Miu’s minis are on the very racy side',\n",
       " '” How many years since you saw a really good biker jacket in the wild? Buckle up, lads: she’s back',\n",
       " ' At Acne Studios, Supriya Lele and Miu Miu, the biker was in a decidedly ’90s mood, taking the form of a slim-fit, lapel-free, motorcycle style with a single strap at the throat and a distressed finish',\n",
       " ' At Balenciaga and Prada, it came with more of an oversized fit, with multiple zips',\n",
       " ' And at Alexander McQueen, Simone Rocha, and Richard Quinn, things got a little funky: leather was mixed with denim, the sharp lapels came with feminine puff shoulders, or else the whole thing was smothered in studs',\n",
       " ' Take Valentino, where chocolate brown, raspberry and cerulean blue mingled to delicious effect',\n",
       " ' And if it feels too complicated to play Rothko with your wardrobe? Just take it head-to-toe, inspired by Emilia Wickstead and Christian Siriano',\n",
       " ' Imagine the swish as Gucci’s red caped mini dress wafts behind you, Gaga style',\n",
       " ' Picture the reactions as your Maximilian spikes send champagne flutes flying',\n",
       " ' Think of the hours of enjoyment you’ll get from your pink Prada satin tail creating maximum drama in your wake',\n",
       " ' A trend for those fluent in fringing and self-assured in stripes = fringed stripes',\n",
       " ' Our favourites: JW Anderson’s mini dresses, Louis Vuitton’s going-out tops (paired with deep-blue denim) and Gucci’s feathered coat',\n",
       " ' If the fringe feels too frou-frou, just order classic marinière strokes, seen at Balmain; 1970s diagonals, wafting down the catwalk at Fendi; or libertine lines, taken every which way at Marni',\n",
       " ' Here’s one for the minimalists: a shock of Colgate white, worn head-to-toe, felt particularly fresh for spring/summer 2022',\n",
       " ' So too Alaïa, where Pieter Mulier contrasted sinuous fits with crisp white cottons',\n",
       " ' At Hermès and Valentino, updates on the white trouser suit were particularly enticing',\n",
       " ' And at Chloé, head-to-toe white even felt bohemian; a warm, cosy antidote to more clinical takes on the trend',\n",
       " ' Super sheer, super tight, and super short',\n",
       " ' If you’re interested in the key dress shape for spring, then just know that fashion’s got a taste for flesh',\n",
       " ' A crop of young designers is carrying the torch for this outré take on “the new sexy”, led by LVMH Prize-winning designer Nensi Dojaka as well as Supriya Lele in London, and Ludovic de Saint Sernin and Coperni in Paris',\n",
       " ' The key to unleashing your nipples? Invest in a comfortable pair of cotton pants – and take a deep breath',\n",
       " ' It almost feels like a cop-out to lump together so many individual impulses for after-dark glamour, but how else to sum up the industry’s deep desire to go out on the town? Sequins, chainmail, sparkling mesh, crystals and heavily-embellished styles abounded on the catwalks as sweet release from challenging lockdowns beckoned',\n",
       " ' Being over-dressed is incontrovertibly a thing of the past',\n",
       " ' Crop tops and butterflies, Grecian draping and low-rise pants, body chains and skinny, completely useless scarves – it will be tough to resist the siren song of the 2000s come spring',\n",
       " ' Blumarine, now the epitome of Y2K style, went all in at its Milan show, promoting “military fairies…sexy butterfly girls…low-waisted mermaids” as the new-season icons to emulate, as stylist Lotta Volkova put it',\n",
       " ' Even Etro went low-rise and stomach-bared, while cargo pants popped up at, among others, Tom Ford and Zimmermann',\n",
       " ' You can bet Dua Lipa and the rest of the TikTok generation is going to fall for every single look at KNWLS, Roberto Cavalli and Dolce & Gabbana',\n",
       " ' For as Tom Ford, quoting Diana Vreeland, succinctly put it in his show notes: “I know it’s a lot but is it enough?” Want the confidence-inducing cut that’s guaranteed by good tailoring, as well as the feminine ease of a pleated skirt? You’re in luck',\n",
       " ' Spring’s fashion solution to this particularly pandemic-induced conundrum is a boy-meets-girl combination of structured blazer and fluid dress',\n",
       " ' At Altuzarra, it looked particularly straightforward, in tonal shades of berry; at Louis Vuitton, things were a little more theatrical but the premise was similarly comfort-driven',\n",
       " ' Of course, you could forgo the dress, as suggested by Saint Laurent, where Anthony Vaccarello paired precision tailoring with sheer tights or body stockings',\n",
       " ' But why miss out on the chance to play? Make like Naomi Campbell at Alexander McQueen, with masses of tulle and a cropped smoking jacket, and you can have the best of both worlds',\n",
       " ' More from Vogue Condé Nast Britain © 2022 Condé Nast The 10 Key Spring/Summer 2022 Trends To Know Now Micro Mania Miu Miu Chanel Prada Balmain Loewe Bottega Veneta Missoni Moschino Ahluwalia Alberta Ferretti Christian Dior Courrèges Lanvin Emilio Pucci Hermès Charles Jeffrey Loverboy Emporio Armani Giambattista Valli Motorcycle Diaries Balenciaga KNWLS Simone Rocha Richard Quinn Supriya Lele Acne Studios Ports 1961 Alexander McQueen Blumarine Diesel Miu Miu Philosophy di Lorenzo Serafini Prada Tod’s Christian Dior Dolce & Gabbana Colour Me Free Halpern Molly Goddard Proenza Schouler Huishan Zhang Rejina Pyo Valentino Versace Brandon Maxwell Christian Siriano Gucci Comme des Garçons Tom Ford Richard Quinn Akris Emilia Wickstead Tod’s Jason Wu Collection Shang Xia Drama At The Back Gucci Alexander McQueen Maximilian Collina Strada Carolina Herrera Fendi Chanel Marques Almeida Louis Vuitton Prabal Gurung Emilia Wickstead Rochas Balenciaga Prada Missoni Rick Owens Giorgio Armani Between The Lines Duro Olowu Marni Kenneth Ize Carolina Herrera Alaïa JW Anderson Balmain Etro Molly Goddard Schiaparelli Wales Bonner Jil Sander Raf Simons Louis Vuitton Fendi Lacoste Max Mara Tory Burch Paul Smith Vetements So Fresh And So Clean Gabriela Hearst Hermès Peter Do The Row Alexander McQueen Boss Bottega Veneta Chloé Issey Miyake Sportmax Altuzarra Brunello Cucinelli Givenchy Max Mara Valentino Petar Petrov Cecilie Bahnsen Ermanno Scervino Fendi The New Sexy Nensi Dojaka Alaïa Coperni Eckhaus Latta Ludovic de Saint Sernin Gucci Khaite Dsquared2 Supriya Lele Maison Margiela Versace Rejina Pyo Andreas Kronthaler for Vivienne Westwood No21 David Koma Ashish Koché Up All Night Bottega Veneta Balenciaga Burberry Christopher Kane Alexander McQueen Rodarte Lanvin Paco Rabanne Christian Dior Michael Kors Collection Gucci Halpern Giorgio Armani Junya Watanabe Philosophy di Lorenzo Serafini Philipp Plein Millennium Bug Blumarine Isabel Marant Christopher John Rogers Coperni Coach Roberto Cavalli Etro Missoni Maryam Nassir Zadeh KNWLS Zimmermann Tom Ford Bottega Veneta MSGM Dolce & Gabbana Alberta Ferretti Dsquared2 Richard Malone Tinker, Tailor Givenchy Harris Reed Alexander McQueen Miu Miu Saint Laurent Nina Ricci Boss Thom Browne Versace Burberry Altuzarra Louis Vuitton Preen by Thornton Bregazzi Sacai  Edition Britain LargeChevron Open Navigation Menu Fashion Beauty Arts & Lifestyle Runway News Video Vogue Shop  Close Navigation Menu  Fashion Trends  By Ellie Pithers Ellie Pithers Levi’s Baggy Jeans Are Officially The Hottest Product Of 2021 By Alice Cary Alice Cary  1/183 Micro Mania  2/183 Miu Miu  3/183 Chanel  4/183 Prada  5/183 Balmain  6/183 Loewe  7/183 Bottega Veneta  8/183 Missoni  9/183 Moschino  10/183 Ahluwalia  11/183 Alberta Ferretti  12/183 Christian Dior  13/183 Courrèges  14/183 Lanvin  15/183 Emilio Pucci  16/183 Hermès  17/183 Charles Jeffrey Loverboy  18/183 Emporio Armani  19/183 Giambattista Valli  20/183 Motorcycle Diaries  21/183 Balenciaga  22/183 KNWLS  23/183 Simone Rocha  24/183 Richard Quinn  25/183 Supriya Lele  26/183 Acne Studios  27/183 Ports 1961  28/183 Alexander McQueen  29/183 Blumarine  30/183 Diesel  31/183 Miu Miu  32/183 Philosophy di Lorenzo Serafini  33/183 Prada  34/183 Tod’s  35/183 Christian Dior  36/183 Dolce & Gabbana  37/183 Colour Me Free  38/183 Halpern  39/183 Molly Goddard  40/183 Proenza Schouler  41/183 Huishan Zhang  42/183 Rejina Pyo  43/183 Valentino  44/183 Versace  45/183 Brandon Maxwell  46/183 Christian Siriano  47/183 Gucci  48/183 Comme des Garçons  49/183 Tom Ford  50/183 Richard Quinn  51/183 Akris  52/183 Emilia Wickstead  53/183 Tod’s  54/183 Jason Wu Collection  55/183 Shang Xia  56/183 Drama At The Back  57/183 Gucci  58/183 Alexander McQueen  59/183 Maximilian  60/183 Collina Strada  61/183 Carolina Herrera  62/183 Fendi  63/183 Chanel  64/183 Marques Almeida  65/183 Louis Vuitton  66/183 Prabal Gurung  67/183 Emilia Wickstead  68/183 Rochas  69/183 Balenciaga  70/183 Prada  71/183 Missoni  72/183 Rick Owens  73/183 Giorgio Armani  74/183 Between The Lines  75/183 Duro Olowu  76/183 Marni  77/183 Kenneth Ize  78/183 Carolina Herrera  79/183 Alaïa  80/183 JW Anderson  81/183 Balmain  82/183 Etro  83/183 Molly Goddard  84/183 Schiaparelli  85/183 Wales Bonner  86/183 Jil Sander  87/183 Raf Simons  88/183 Louis Vuitton  89/183 Fendi  90/183 Lacoste  91/183 Max Mara  92/183 Tory Burch  93/183 Paul Smith  94/183 Vetements  95/183 So Fresh And So Clean  96/183 Gabriela Hearst  97/183 Hermès  98/183 Peter Do  99/183 The Row  100/183 Alexander McQueen  101/183 Boss  102/183 Bottega Veneta  103/183 Chloé  104/183 Issey Miyake  105/183 Sportmax  106/183 Altuzarra  107/183 Brunello Cucinelli  108/183 Givenchy  109/183 Max Mara  110/183 Valentino  111/183 Petar Petrov  112/183 Cecilie Bahnsen  113/183 Ermanno Scervino  114/183 Fendi  115/183 The New Sexy  116/183 Nensi Dojaka  117/183 Alaïa  118/183 Coperni  119/183 Eckhaus Latta  120/183 Ludovic de Saint Sernin  121/183 Gucci  122/183 Khaite  123/183 Dsquared2  124/183 Supriya Lele  125/183 Maison Margiela  126/183 Versace  127/183 Rejina Pyo  128/183 Andreas Kronthaler for Vivienne Westwood  129/183 No21  130/183 David Koma  131/183 Ashish  132/183 Koché  133/183 Up All Night  134/183 Bottega Veneta  135/183 Balenciaga  136/183 Burberry  137/183 Christopher Kane  138/183 Alexander McQueen  139/183 Rodarte  140/183 Lanvin  141/183 Paco Rabanne  142/183 Christian Dior  143/183 Michael Kors Collection  144/183 Gucci  145/183 Halpern  146/183 Giorgio Armani  147/183 Junya Watanabe  148/183 Philosophy di Lorenzo Serafini  149/183 Philipp Plein  150/183 Millennium Bug  151/183 Blumarine  152/183 Isabel Marant  153/183 Christopher John Rogers  154/183 Coperni  155/183 Coach  156/183 Roberto Cavalli  157/183 Etro  158/183 Missoni  159/183 Maryam Nassir Zadeh  160/183 KNWLS  161/183 Zimmermann  162/183 Tom Ford  163/183 Bottega Veneta  164/183 MSGM  165/183 Dolce & Gabbana  166/183 Alberta Ferretti  167/183 Dsquared2  168/183 Richard Malone  169/183 Tinker, Tailor  170/183 Givenchy  171/183 Harris Reed  172/183 Alexander McQueen  173/183 Miu Miu  174/183 Saint Laurent  175/183 Nina Ricci  176/183 Boss  177/183 Thom Browne  178/183 Versace  179/183 Burberry  180/183 Altuzarra  181/183 Louis Vuitton  182/183 Preen by Thornton Bregazzi  183/183 Sacai Fashion Fashion Trends    Do Not Sell My Personal Info Select international site Britain LargeChevron']"
      ]
     },
     "execution_count": 7,
     "metadata": {},
     "output_type": "execute_result"
    }
   ],
   "source": [
    "useful_sentences = []\n",
    "all_sentences = \" \".join(all_text).split('.')\n",
    "for sentence in all_sentences:\n",
    "    for specification in specifications:\n",
    "        if specification in sentence:\n",
    "            useful_sentences.append(sentence)\n",
    "            break\n",
    "useful_sentences"
   ]
  },
  {
   "cell_type": "code",
   "execution_count": 8,
   "metadata": {},
   "outputs": [
    {
     "data": {
      "text/plain": [
       "[('” Think 18th-century pannier dresses with their hems chopped to reveal red satin superhero-style boots; cape-tuxedo hybrids paired with indigo jeans; gold-braid embellished waistcoats with short cargo skirts and floor-sweeping Morticia Addams capes',\n",
       "  52),\n",
       " (' Our favourites: JW Anderson’s mini dresses, Louis Vuitton’s going-out tops (paired with deep-blue denim) and Gucci’s feathered coat',\n",
       "  35),\n",
       " (' Crop tops and butterflies, Grecian draping and low-rise pants, body chains and skinny, completely useless scarves – it will be tough to resist the siren song of the 2000s come spring',\n",
       "  32),\n",
       " (' Here’s one for the minimalists: a shock of Colgate white, worn head-to-toe, felt particularly fresh for spring/summer 2022',\n",
       "  25),\n",
       " (' Take Valentino, where chocolate brown, raspberry and cerulean blue mingled to delicious effect',\n",
       "  24),\n",
       " (' For as Tom Ford, quoting Diana Vreeland, succinctly put it in his show notes: “I know it’s a lot but is it enough?” Want the confidence-inducing cut that’s guaranteed by good tailoring, as well as the feminine ease of a pleated skirt? You’re in luck',\n",
       "  23),\n",
       " (' Even Etro went low-rise and stomach-bared, while cargo pants popped up at, among others, Tom Ford and Zimmermann',\n",
       "  22),\n",
       " (' “Seduction, Stripped Down” was the title of Prada’s collection and, true to form, it poked fun at conventional interpretations of allure, exploring corsetry in itchy schoolmarmish wool and offsetting micro hemlines with demure kitten-heels',\n",
       "  20),\n",
       " (' Blumarine, now the epitome of Y2K style, went all in at its Milan show, promoting “military fairies…sexy butterfly girls…low-waisted mermaids” as the new-season icons to emulate, as stylist Lotta Volkova put it',\n",
       "  20),\n",
       " (' Of course, you could forgo the dress, as suggested by Saint Laurent, where Anthony Vaccarello paired precision tailoring with sheer tights or body stockings',\n",
       "  20),\n",
       " (' Donatella Versace can always be relied upon to inject some wiggle into fashion’s walk, and for spring she embraced thigh-slits, midriffs, chainmail and latex',\n",
       "  19),\n",
       " (' Spring’s fashion solution to this particularly pandemic-induced conundrum is a boy-meets-girl combination of structured blazer and fluid dress',\n",
       "  18),\n",
       " (' And at Alexander McQueen, Simone Rocha, and Richard Quinn, things got a little funky: leather was mixed with denim, the sharp lapels came with feminine puff shoulders, or else the whole thing was smothered in studs',\n",
       "  17),\n",
       " (' One can only imagine how Roland would react to the acres of flesh on show this past September, as dictated by the dominant spring/summer 2022 fashion trend',\n",
       "  16),\n",
       " (' Ditto Gucci, whose transparent lace mini dresses, latex bustiers, fishnets-and-suspender-belts and sex-toy accessories explored the “nuances of sensuality” in a blockbuster show in LA',\n",
       "  16),\n",
       " (' And you would be partly right: spring/summer 2022 was a chaotic, creative mix of idiosyncratic takes on what the post-pandemic world wants right now',\n",
       "  16),\n",
       " (' Here, the 10 biggest spring/summer 2022 fashion trends you need to know about',\n",
       "  16),\n",
       " (' Imagine the swish as Gucci’s red caped mini dress wafts behind you, Gaga style',\n",
       "  16),\n",
       " (' If you’re interested in the key dress shape for spring, then just know that fashion’s got a taste for flesh',\n",
       "  15),\n",
       " (' The key to unleashing your nipples? Invest in a comfortable pair of cotton pants – and take a deep breath',\n",
       "  15),\n",
       " (' Just when you thought the hemlines couldn’t go higher, well, along came Miuccia Prada with a Miu Miu show that made you want to take a pair of dressmaking shears to every skirt you own',\n",
       "  14),\n",
       " (' Think of the hours of enjoyment you’ll get from your pink Prada satin tail creating maximum drama in your wake',\n",
       "  13),\n",
       " (' A trend for those fluent in fringing and self-assured in stripes = fringed stripes',\n",
       "  13),\n",
       " (' Young guns Nensi Dojaka and Supriya Lele have made this hedonistic approach their calling card, and their sheer, body-wrapping designs made headlines in London',\n",
       "  12),\n",
       " (' Nowhere was this frenetic energy more evident than at Louis Vuitton, where Nicolas Ghesquière imagined “the figure of a vampire who travels through the ages, adapting to dress codes of the era',\n",
       "  11),\n",
       " (' And if it feels too complicated to play Rothko with your wardrobe? Just take it head-to-toe, inspired by Emilia Wickstead and Christian Siriano',\n",
       "  11),\n",
       " (' So too Alaïa, where Pieter Mulier contrasted sinuous fits with crisp white cottons',\n",
       "  11),\n",
       " (' A crop of young designers is carrying the torch for this outré take on “the new sexy”, led by LVMH Prize-winning designer Nensi Dojaka as well as Supriya Lele in London, and Ludovic de Saint Sernin and Coperni in Paris',\n",
       "  11),\n",
       " (' But why miss out on the chance to play? Make like Naomi Campbell at Alexander McQueen, with masses of tulle and a cropped smoking jacket, and you can have the best of both worlds',\n",
       "  11),\n",
       " (' But, after a hot-vax summer during which young people threw their insecurities to the wind, embracing a daring vein of body positivity that had previously seemed like well-merchandised marketing spiel, designers found new ways to interpret sex',\n",
       "  10),\n",
       " (' About time! Models Precious Lee, Alva Claire, Paloma Elsesser and Yumi Nu were among the most in-demand models for spring, bringing some much-needed body diversity to the runways',\n",
       "  10),\n",
       " (' At Acne Studios, Supriya Lele and Miu Miu, the biker was in a decidedly ’90s mood, taking the form of a slim-fit, lapel-free, motorcycle style with a single strap at the throat and a distressed finish',\n",
       "  10),\n",
       " (' If the fringe feels too frou-frou, just order classic marinière strokes, seen at Balmain; 1970s diagonals, wafting down the catwalk at Fendi; or libertine lines, taken every which way at Marni',\n",
       "  10),\n",
       " (' Super sheer, super tight, and super short', 10),\n",
       " (' More from Vogue Condé Nast Britain © 2022 Condé Nast The 10 Key Spring/Summer 2022 Trends To Know Now Micro Mania Miu Miu Chanel Prada Balmain Loewe Bottega Veneta Missoni Moschino Ahluwalia Alberta Ferretti Christian Dior Courrèges Lanvin Emilio Pucci Hermès Charles Jeffrey Loverboy Emporio Armani Giambattista Valli Motorcycle Diaries Balenciaga KNWLS Simone Rocha Richard Quinn Supriya Lele Acne Studios Ports 1961 Alexander McQueen Blumarine Diesel Miu Miu Philosophy di Lorenzo Serafini Prada Tod’s Christian Dior Dolce & Gabbana Colour Me Free Halpern Molly Goddard Proenza Schouler Huishan Zhang Rejina Pyo Valentino Versace Brandon Maxwell Christian Siriano Gucci Comme des Garçons Tom Ford Richard Quinn Akris Emilia Wickstead Tod’s Jason Wu Collection Shang Xia Drama At The Back Gucci Alexander McQueen Maximilian Collina Strada Carolina Herrera Fendi Chanel Marques Almeida Louis Vuitton Prabal Gurung Emilia Wickstead Rochas Balenciaga Prada Missoni Rick Owens Giorgio Armani Between The Lines Duro Olowu Marni Kenneth Ize Carolina Herrera Alaïa JW Anderson Balmain Etro Molly Goddard Schiaparelli Wales Bonner Jil Sander Raf Simons Louis Vuitton Fendi Lacoste Max Mara Tory Burch Paul Smith Vetements So Fresh And So Clean Gabriela Hearst Hermès Peter Do The Row Alexander McQueen Boss Bottega Veneta Chloé Issey Miyake Sportmax Altuzarra Brunello Cucinelli Givenchy Max Mara Valentino Petar Petrov Cecilie Bahnsen Ermanno Scervino Fendi The New Sexy Nensi Dojaka Alaïa Coperni Eckhaus Latta Ludovic de Saint Sernin Gucci Khaite Dsquared2 Supriya Lele Maison Margiela Versace Rejina Pyo Andreas Kronthaler for Vivienne Westwood No21 David Koma Ashish Koché Up All Night Bottega Veneta Balenciaga Burberry Christopher Kane Alexander McQueen Rodarte Lanvin Paco Rabanne Christian Dior Michael Kors Collection Gucci Halpern Giorgio Armani Junya Watanabe Philosophy di Lorenzo Serafini Philipp Plein Millennium Bug Blumarine Isabel Marant Christopher John Rogers Coperni Coach Roberto Cavalli Etro Missoni Maryam Nassir Zadeh KNWLS Zimmermann Tom Ford Bottega Veneta MSGM Dolce & Gabbana Alberta Ferretti Dsquared2 Richard Malone Tinker, Tailor Givenchy Harris Reed Alexander McQueen Miu Miu Saint Laurent Nina Ricci Boss Thom Browne Versace Burberry Altuzarra Louis Vuitton Preen by Thornton Bregazzi Sacai  Edition Britain LargeChevron Open Navigation Menu Fashion Beauty Arts & Lifestyle Runway News Video Vogue Shop  Close Navigation Menu  Fashion Trends  By Ellie Pithers Ellie Pithers Levi’s Baggy Jeans Are Officially The Hottest Product Of 2021 By Alice Cary Alice Cary  1/183 Micro Mania  2/183 Miu Miu  3/183 Chanel  4/183 Prada  5/183 Balmain  6/183 Loewe  7/183 Bottega Veneta  8/183 Missoni  9/183 Moschino  10/183 Ahluwalia  11/183 Alberta Ferretti  12/183 Christian Dior  13/183 Courrèges  14/183 Lanvin  15/183 Emilio Pucci  16/183 Hermès  17/183 Charles Jeffrey Loverboy  18/183 Emporio Armani  19/183 Giambattista Valli  20/183 Motorcycle Diaries  21/183 Balenciaga  22/183 KNWLS  23/183 Simone Rocha  24/183 Richard Quinn  25/183 Supriya Lele  26/183 Acne Studios  27/183 Ports 1961  28/183 Alexander McQueen  29/183 Blumarine  30/183 Diesel  31/183 Miu Miu  32/183 Philosophy di Lorenzo Serafini  33/183 Prada  34/183 Tod’s  35/183 Christian Dior  36/183 Dolce & Gabbana  37/183 Colour Me Free  38/183 Halpern  39/183 Molly Goddard  40/183 Proenza Schouler  41/183 Huishan Zhang  42/183 Rejina Pyo  43/183 Valentino  44/183 Versace  45/183 Brandon Maxwell  46/183 Christian Siriano  47/183 Gucci  48/183 Comme des Garçons  49/183 Tom Ford  50/183 Richard Quinn  51/183 Akris  52/183 Emilia Wickstead  53/183 Tod’s  54/183 Jason Wu Collection  55/183 Shang Xia  56/183 Drama At The Back  57/183 Gucci  58/183 Alexander McQueen  59/183 Maximilian  60/183 Collina Strada  61/183 Carolina Herrera  62/183 Fendi  63/183 Chanel  64/183 Marques Almeida  65/183 Louis Vuitton  66/183 Prabal Gurung  67/183 Emilia Wickstead  68/183 Rochas  69/183 Balenciaga  70/183 Prada  71/183 Missoni  72/183 Rick Owens  73/183 Giorgio Armani  74/183 Between The Lines  75/183 Duro Olowu  76/183 Marni  77/183 Kenneth Ize  78/183 Carolina Herrera  79/183 Alaïa  80/183 JW Anderson  81/183 Balmain  82/183 Etro  83/183 Molly Goddard  84/183 Schiaparelli  85/183 Wales Bonner  86/183 Jil Sander  87/183 Raf Simons  88/183 Louis Vuitton  89/183 Fendi  90/183 Lacoste  91/183 Max Mara  92/183 Tory Burch  93/183 Paul Smith  94/183 Vetements  95/183 So Fresh And So Clean  96/183 Gabriela Hearst  97/183 Hermès  98/183 Peter Do  99/183 The Row  100/183 Alexander McQueen  101/183 Boss  102/183 Bottega Veneta  103/183 Chloé  104/183 Issey Miyake  105/183 Sportmax  106/183 Altuzarra  107/183 Brunello Cucinelli  108/183 Givenchy  109/183 Max Mara  110/183 Valentino  111/183 Petar Petrov  112/183 Cecilie Bahnsen  113/183 Ermanno Scervino  114/183 Fendi  115/183 The New Sexy  116/183 Nensi Dojaka  117/183 Alaïa  118/183 Coperni  119/183 Eckhaus Latta  120/183 Ludovic de Saint Sernin  121/183 Gucci  122/183 Khaite  123/183 Dsquared2  124/183 Supriya Lele  125/183 Maison Margiela  126/183 Versace  127/183 Rejina Pyo  128/183 Andreas Kronthaler for Vivienne Westwood  129/183 No21  130/183 David Koma  131/183 Ashish  132/183 Koché  133/183 Up All Night  134/183 Bottega Veneta  135/183 Balenciaga  136/183 Burberry  137/183 Christopher Kane  138/183 Alexander McQueen  139/183 Rodarte  140/183 Lanvin  141/183 Paco Rabanne  142/183 Christian Dior  143/183 Michael Kors Collection  144/183 Gucci  145/183 Halpern  146/183 Giorgio Armani  147/183 Junya Watanabe  148/183 Philosophy di Lorenzo Serafini  149/183 Philipp Plein  150/183 Millennium Bug  151/183 Blumarine  152/183 Isabel Marant  153/183 Christopher John Rogers  154/183 Coperni  155/183 Coach  156/183 Roberto Cavalli  157/183 Etro  158/183 Missoni  159/183 Maryam Nassir Zadeh  160/183 KNWLS  161/183 Zimmermann  162/183 Tom Ford  163/183 Bottega Veneta  164/183 MSGM  165/183 Dolce & Gabbana  166/183 Alberta Ferretti  167/183 Dsquared2  168/183 Richard Malone  169/183 Tinker, Tailor  170/183 Givenchy  171/183 Harris Reed  172/183 Alexander McQueen  173/183 Miu Miu  174/183 Saint Laurent  175/183 Nina Ricci  176/183 Boss  177/183 Thom Browne  178/183 Versace  179/183 Burberry  180/183 Altuzarra  181/183 Louis Vuitton  182/183 Preen by Thornton Bregazzi  183/183 Sacai Fashion Fashion Trends    Do Not Sell My Personal Info Select international site Britain LargeChevron',\n",
       "  10),\n",
       " (' Short, sheer and second-skin takes on sexy are back', 9),\n",
       " (' Worn low on the hips and cut to a strip that just about covers the chuddies (that’s underpants, for all you international readers), Miu Miu’s minis are on the very racy side',\n",
       "  9),\n",
       " (' At Balenciaga and Prada, it came with more of an oversized fit, with multiple zips',\n",
       "  9),\n",
       " (' Picture the reactions as your Maximilian spikes send champagne flutes flying',\n",
       "  9),\n",
       " (' And at Chloé, head-to-toe white even felt bohemian; a warm, cosy antidote to more clinical takes on the trend',\n",
       "  9),\n",
       " (' It almost feels like a cop-out to lump together so many individual impulses for after-dark glamour, but how else to sum up the industry’s deep desire to go out on the town? Sequins, chainmail, sparkling mesh, crystals and heavily-embellished styles abounded on the catwalks as sweet release from challenging lockdowns beckoned',\n",
       "  9),\n",
       " (' At Altuzarra, it looked particularly straightforward, in tonal shades of berry; at Louis Vuitton, things were a little more theatrical but the premise was similarly comfort-driven',\n",
       "  8),\n",
       " (' “We thought of words like elegant – but this feels so old-fashioned,” Prada said in the show notes',\n",
       "  7),\n",
       " (' Ludovic de Saint Sernin, the young designer with a small but devoted following, showed a collection made up of tiny strips of leather braided together',\n",
       "  5),\n",
       " (' By Alice Cary A sense of loosening up permeated the collections, even when sex (or size) wasn’t on the brain',\n",
       "  5),\n",
       " (' Across the board, colour comes in juicy shots – unless it’s wiped completely, in favour of head-to-toe white',\n",
       "  5),\n",
       " (' And say hello to the biker jacket, that once ubiquitous model-off-duty staple that suddenly feels right again',\n",
       "  5),\n",
       " ('” How many years since you saw a really good biker jacket in the wild? Buckle up, lads: she’s back',\n",
       "  5),\n",
       " (' At Hermès and Valentino, updates on the white trouser suit were particularly enticing',\n",
       "  5),\n",
       " (' Being over-dressed is incontrovertibly a thing of the past', 5),\n",
       " (' Read more: Autumn/Winter 2021 Fashion Trends The big boys were feeling sexy, too',\n",
       "  4),\n",
       " (' It should be noted that fashion is finally wising up to the fact that sexy comes in all shapes, skin tones and sizes',\n",
       "  4),\n",
       " (' Trains and capes, ripe for making an entrance (or, more accurately, an exit) proliferate with an urgency not seen since the mullet hems of the 2010s',\n",
       "  4),\n",
       " (' Trends are dead, long live trends', 4),\n",
       " (' You can bet Dua Lipa and the rest of the TikTok generation is going to fall for every single look at KNWLS, Roberto Cavalli and Dolce & Gabbana',\n",
       "  4),\n",
       " (' To put it in terms that Cardi B would appreciate, when it comes to the new season, fashion is feeling all “macaroni in a pot”',\n",
       "  3),\n",
       " (' It was sponsored by Pornhub; a collaboration with the porn site is due in early 2022',\n",
       "  3)]"
      ]
     },
     "execution_count": 8,
     "metadata": {},
     "output_type": "execute_result"
    }
   ],
   "source": [
    "useful_sentences_score = []\n",
    "useful_sentences_dictionary = dict()\n",
    "for sentence in useful_sentences:\n",
    "    score = 0\n",
    "    for specification in specifications:\n",
    "        if specification in sentence:\n",
    "            score = score + len(specification)\n",
    "    useful_sentences_dictionary[sentence] = score\n",
    "useful_sentences_dictionary = sorted(useful_sentences_dictionary.items(), key=lambda x:x[1], reverse=True)\n",
    "useful_sentences_dictionary"
   ]
  },
  {
   "cell_type": "code",
   "execution_count": null,
   "metadata": {},
   "outputs": [],
   "source": []
  }
 ],
 "metadata": {
  "interpreter": {
   "hash": "473418c0e77683684e48f36ee0a4eb17769bc02766a503d3556a3480c1d685e5"
  },
  "kernelspec": {
   "display_name": "Python 3.8.8 ('base')",
   "language": "python",
   "name": "python3"
  },
  "language_info": {
   "codemirror_mode": {
    "name": "ipython",
    "version": 3
   },
   "file_extension": ".py",
   "mimetype": "text/x-python",
   "name": "python",
   "nbconvert_exporter": "python",
   "pygments_lexer": "ipython3",
   "version": "3.8.8"
  },
  "orig_nbformat": 4
 },
 "nbformat": 4,
 "nbformat_minor": 2
}
