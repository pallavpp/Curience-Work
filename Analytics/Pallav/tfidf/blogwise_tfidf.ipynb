{
 "cells": [
  {
   "cell_type": "code",
   "execution_count": 15,
   "metadata": {},
   "outputs": [],
   "source": [
    "# standard imports\n",
    "import os\n",
    "import re\n",
    "import sys\n",
    "import requests\n",
    "import unicodedata\n",
    "import pandas as pd\n",
    "from bs4 import BeautifulSoup\n",
    "\n",
    "# natural language processing\n",
    "import nltk\n",
    "from sklearn.feature_extraction.text import TfidfVectorizer"
   ]
  },
  {
   "cell_type": "code",
   "execution_count": 16,
   "metadata": {},
   "outputs": [],
   "source": [
    "# pandas display settings\n",
    "pd.options.display.max_columns = None\n",
    "pd.options.display.max_rows = None\n",
    "pd.options.display.width = None"
   ]
  },
  {
   "cell_type": "code",
   "execution_count": 17,
   "metadata": {},
   "outputs": [],
   "source": [
    "# number of ngrams to consider from each blog\n",
    "terms_to_consider = 20"
   ]
  },
  {
   "cell_type": "code",
   "execution_count": 18,
   "metadata": {},
   "outputs": [],
   "source": [
    "# read and store all stopwords in lowercase\n",
    "curr_path = os.path.abspath(\"blogwise_tfidf.ipynb\")\n",
    "stopwords_path = os.path.abspath(os.path.join(curr_path, \"../../../..\", \"Read_Files\", \"stopwords_cleaned.txt\"))\n",
    "with open(stopwords_path) as file:\n",
    "    stopwords = [line.strip().lower() for line in file]"
   ]
  },
  {
   "cell_type": "code",
   "execution_count": 19,
   "metadata": {},
   "outputs": [],
   "source": [
    "# get all links\n",
    "csv_path = os.path.abspath(os.path.join(curr_path, \"../..\", \"pallav_analytics_data.csv\"))\n",
    "df = pd.read_csv(csv_path)\n",
    "no_of_blogs = df.shape[0]"
   ]
  },
  {
   "cell_type": "code",
   "execution_count": 20,
   "metadata": {},
   "outputs": [],
   "source": [
    "# function to get all page content from html response\n",
    "def get_page_text(html_response):\n",
    "    # getting page content\n",
    "    html_text = html_response.text\n",
    "    soup = BeautifulSoup(html_text, \"lxml\")\n",
    "\n",
    "    # various sources of text\n",
    "    para_text = [element.text.strip() for element in soup.find_all(\"p\")]\n",
    "    header_text = [element.text.strip() for element in soup.find_all([\"h1\", \"h2\", \"h3\", \"h4\", \"h5\", \"h6\"])]\n",
    "    span_text = [element.text.strip() for element in soup.find_all(\"span\")]\n",
    "    all_text = para_text + header_text + span_text\n",
    "    \n",
    "    return \" \".join(all_text)"
   ]
  },
  {
   "cell_type": "code",
   "execution_count": 21,
   "metadata": {},
   "outputs": [],
   "source": [
    "# function to lemmatize and clean page text\n",
    "def clean_page_text(text):\n",
    "    # lemmatizer\n",
    "    wnl = nltk.stem.WordNetLemmatizer()\n",
    "\n",
    "    # text cleaning\n",
    "    text = (unicodedata.normalize('NFKD', text).encode('ascii', 'ignore').decode('utf-8', 'ignore').lower())\n",
    "    text = text.replace(\"/\", \" \")\n",
    "    text = text.replace(\"-\", \" \")\n",
    "    words = re.sub(r'[^\\w\\s]', '', text).split()\n",
    "\n",
    "    return \" \".join([wnl.lemmatize(word) for word in words if wnl.lemmatize(word) not in stopwords])"
   ]
  },
  {
   "cell_type": "code",
   "execution_count": 22,
   "metadata": {},
   "outputs": [],
   "source": [
    "# function to store top scoring words from each blog in corpus\n",
    "def get_top_keywords(corpus, n):\n",
    "    # function to get tfidf scoring\n",
    "    vectorizer = TfidfVectorizer(stop_words=stopwords, ngram_range=(n, n))\n",
    "    tfIdf = vectorizer.fit_transform(corpus)\n",
    "\n",
    "    # get feature names\n",
    "    feature_names = vectorizer.get_feature_names()\n",
    "\n",
    "    # store data\n",
    "    top_keywords = []\n",
    "    for i in range(len(successful_blog_list)):\n",
    "        # sort all keywords by score\n",
    "        df_tfidf_scores = pd.DataFrame(tfIdf[i].T.todense(), columns=[\"score\"])\n",
    "        df_tfidf_scores[\"keyword\"] = feature_names\n",
    "        df_tfidf_scores.sort_values(\"score\", ascending=False, inplace=True)\n",
    "        df_tfidf_scores.reset_index(inplace=True, drop=True)\n",
    "        \n",
    "        # ensure length of list for appending\n",
    "        keyword_list = df_tfidf_scores[\"keyword\"].tolist()[:terms_to_consider]\n",
    "        for i in range(max(terms_to_consider - len(keyword_list), 0)):\n",
    "                keyword_list.append(\"\")\n",
    "        top_keywords.append(keyword_list)\n",
    "\n",
    "    return top_keywords"
   ]
  },
  {
   "cell_type": "code",
   "execution_count": 23,
   "metadata": {},
   "outputs": [],
   "source": [
    "# function to find occurence of each noun\n",
    "def fill_occurence_dict(word_lists):\n",
    "    dictionary = {}\n",
    "\n",
    "    # initialize dictionary\n",
    "    for word_list in word_lists:\n",
    "        for word in word_list:\n",
    "            dictionary[word] = []\n",
    "\n",
    "    # fill unique occurence\n",
    "    for i in range(len(word_lists)):\n",
    "        for word in word_lists[i]:\n",
    "            if i not in dictionary[word]:\n",
    "                dictionary[word].append(i)\n",
    "\n",
    "    return dictionary"
   ]
  },
  {
   "cell_type": "code",
   "execution_count": 24,
   "metadata": {},
   "outputs": [],
   "source": [
    "# function to print frequently occuring nouns\n",
    "def print_top_keywords(dictionary):\n",
    "    df_top_nouns = pd.DataFrame(columns=[\"keyword\", \"occurence\"])\n",
    "    for key, value in dictionary.items():\n",
    "        if len(value) > 1:\n",
    "            df_top_nouns.loc[len(df_top_nouns.index)] = [key, len(value)]\n",
    "    \n",
    "    # sort based on frequency\n",
    "    df_top_nouns.sort_values(\"occurence\", ascending=False, inplace=True)\n",
    "    df_top_nouns.reset_index(inplace=True, drop=True)\n",
    "    \n",
    "    print(df_top_nouns.to_string())\n",
    "    print()"
   ]
  },
  {
   "cell_type": "code",
   "execution_count": 25,
   "metadata": {},
   "outputs": [],
   "source": [
    "# get document corpus\n",
    "successful_blog_list = []\n",
    "document_corpus = []\n",
    "\n",
    "# iterate through all blogs\n",
    "for blog_link in df[\"Blog Link\"]:\n",
    "    # getting page response\n",
    "    html_response = requests.get(blog_link)\n",
    "    if(html_response.status_code != 200):\n",
    "        continue\n",
    "\n",
    "    # get page content\n",
    "    all_text = get_page_text(html_response)\n",
    "\n",
    "    # lemmatize and clean sentence\n",
    "    clean_text = clean_page_text(all_text)\n",
    "\n",
    "    # store data\n",
    "    successful_blog_list.append(blog_link)\n",
    "    document_corpus.append(clean_text)"
   ]
  },
  {
   "cell_type": "code",
   "execution_count": 26,
   "metadata": {},
   "outputs": [],
   "source": [
    "# get top keywords\n",
    "top_keywords_1 = get_top_keywords(document_corpus, 1)\n",
    "top_keywords_2 = get_top_keywords(document_corpus, 2)\n",
    "top_keywords_3 = get_top_keywords(document_corpus, 3)"
   ]
  },
  {
   "cell_type": "code",
   "execution_count": 27,
   "metadata": {},
   "outputs": [],
   "source": [
    "# fill all occurence dictionaries\n",
    "occurence_count_1 = fill_occurence_dict(top_keywords_1)\n",
    "occurence_count_2 = fill_occurence_dict(top_keywords_2)\n",
    "occurence_count_3 = fill_occurence_dict(top_keywords_3)"
   ]
  },
  {
   "cell_type": "code",
   "execution_count": 28,
   "metadata": {},
   "outputs": [],
   "source": [
    "# print all output\n",
    "# set output path\n",
    "output_path = os.path.abspath(os.path.join(curr_path, \"../..\", \"Outputs/blogwise_tfidf.txt\"))\n",
    "\n",
    "# write to file\n",
    "original_stdout = sys.stdout\n",
    "with open(output_path, \"w\") as f:\n",
    "    sys.stdout = f\n",
    "\n",
    "    print(\"KEYWORDS OCCURING IN MULTIPLE BLOGS:\")\n",
    "    print()\n",
    "    # print summary\n",
    "    print(\"1-gram:\")    \n",
    "    print_top_keywords(occurence_count_1)\n",
    "    print(\"2-gram:\")\n",
    "    print_top_keywords(occurence_count_2)\n",
    "    print(\"3-gram:\")\n",
    "    print_top_keywords(occurence_count_3)\n",
    "\n",
    "    print()\n",
    "    print()\n",
    "    print()\n",
    "\n",
    "    print(\"INDIVIDUAL BLOG ANALYSIS:\")\n",
    "    print()\n",
    "\n",
    "    # print blog wise result\n",
    "    for i in range(len(successful_blog_list)):    \n",
    "        print(successful_blog_list[i])\n",
    "\n",
    "        # create df for output\n",
    "        df_output = pd.DataFrame()\n",
    "        df_output[\"1-gram\"] = top_keywords_1[i]\n",
    "        df_output[\"2-gram\"] = top_keywords_2[i]\n",
    "        df_output[\"3-gram\"] = top_keywords_3[i]\n",
    "        \n",
    "        # remove empty rows\n",
    "        df_output = df_output.loc[df_output[\"1-gram\"] + df_output[\"2-gram\"] + df_output[\"3-gram\"] != \"\"]\n",
    "        \n",
    "        print(df_output.to_string())\n",
    "        print()\n",
    "    \n",
    "    # reset stdout\n",
    "    sys.stdout = original_stdout"
   ]
  },
  {
   "cell_type": "code",
   "execution_count": null,
   "metadata": {},
   "outputs": [],
   "source": []
  }
 ],
 "metadata": {
  "interpreter": {
   "hash": "473418c0e77683684e48f36ee0a4eb17769bc02766a503d3556a3480c1d685e5"
  },
  "kernelspec": {
   "display_name": "Python 3.8.8 ('base')",
   "language": "python",
   "name": "python3"
  },
  "language_info": {
   "codemirror_mode": {
    "name": "ipython",
    "version": 3
   },
   "file_extension": ".py",
   "mimetype": "text/x-python",
   "name": "python",
   "nbconvert_exporter": "python",
   "pygments_lexer": "ipython3",
   "version": "3.8.8"
  },
  "orig_nbformat": 4
 },
 "nbformat": 4,
 "nbformat_minor": 2
}
