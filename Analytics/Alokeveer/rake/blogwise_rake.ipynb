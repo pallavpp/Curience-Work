{
 "cells": [
  {
   "cell_type": "code",
   "execution_count": 3,
   "metadata": {},
   "outputs": [],
   "source": [
    "# standard imports\n",
    "import os\n",
    "import re\n",
    "import sys\n",
    "import requests\n",
    "import unicodedata\n",
    "import pandas as pd\n",
    "from bs4 import BeautifulSoup\n",
    "\n",
    "# natural language processing\n",
    "import nltk\n",
    "from rake_nltk import Rake"
   ]
  },
  {
   "cell_type": "code",
   "execution_count": 4,
   "metadata": {},
   "outputs": [],
   "source": [
    "# pandas display settings\n",
    "pd.options.display.max_columns = None\n",
    "pd.options.display.max_rows = None\n",
    "pd.options.display.width = None"
   ]
  },
  {
   "cell_type": "code",
   "execution_count": 5,
   "metadata": {},
   "outputs": [],
   "source": [
    "# number of ngrams to consider from each blog\n",
    "terms_to_consider = 20"
   ]
  },
  {
   "cell_type": "code",
   "execution_count": 6,
   "metadata": {},
   "outputs": [],
   "source": [
    "# read and store all stopwords in lowercase\n",
    "curr_path = os.path.abspath(\"blogwise_rake.ipynb\")\n",
    "stopwords_path = os.path.abspath(os.path.join(curr_path, \"../../../..\", \"Read_Files\", \"stopwords_cleaned.txt\"))\n",
    "with open(stopwords_path) as file:\n",
    "    stopwords = [line.strip().lower() for line in file]"
   ]
  },
  {
   "cell_type": "code",
   "execution_count": 7,
   "metadata": {},
   "outputs": [],
   "source": [
    "# get all links\n",
    "csv_path = os.path.abspath(os.path.join(curr_path, \"../..\", \"alokeveer_analytics_data.csv\"))\n",
    "df = pd.read_csv(csv_path)\n",
    "no_of_blogs = df.shape[0]"
   ]
  },
  {
   "cell_type": "code",
   "execution_count": 8,
   "metadata": {},
   "outputs": [],
   "source": [
    "# function to get all page content from html response\n",
    "def get_page_text(html_response):\n",
    "    # getting page content\n",
    "    html_text = html_response.text\n",
    "    soup = BeautifulSoup(html_text, \"lxml\")\n",
    "\n",
    "    # various sources of text\n",
    "    para_text = [element.text.strip() for element in soup.find_all(\"p\")]\n",
    "    header_text = [element.text.strip() for element in soup.find_all([\"h1\", \"h2\", \"h3\", \"h4\", \"h5\", \"h6\"])]\n",
    "    span_text = [element.text.strip() for element in soup.find_all(\"span\")]\n",
    "    all_text = para_text + header_text + span_text\n",
    "    \n",
    "    return \" \".join(all_text)"
   ]
  },
  {
   "cell_type": "code",
   "execution_count": null,
   "metadata": {},
   "outputs": [],
   "source": [
    "# function to lemmatize and clean page text\n",
    "def clean_page_text(text):\n",
    "    # lemmatizer\n",
    "    wnl = nltk.stem.WordNetLemmatizer()\n",
    "\n",
    "    # text cleaning\n",
    "    text = (unicodedata.normalize('NFKD', text).encode('ascii', 'ignore').decode('utf-8', 'ignore').lower())\n",
    "    text = text.replace(\"/\", \" \")\n",
    "    text = text.replace(\"-\", \" \")\n",
    "    words = re.sub(r'[^\\w\\s]', '', text).split()\n",
    "\n",
    "    return \" \".join([wnl.lemmatize(word) for word in words])"
   ]
  },
  {
   "cell_type": "code",
   "execution_count": null,
   "metadata": {},
   "outputs": [],
   "source": [
    "# function to store top scoring words from each blog in corpus\n",
    "def get_top_keywords(corpus, n):\n",
    "    keywords_list = []\n",
    "    \n",
    "    # apply rake for each blog\n",
    "    for i in range(len(corpus)):\n",
    "        r = Rake(stopwords=stopwords, min_length=n, max_length=n, include_repeated_phrases=False)\n",
    "        # Extraction given the text.\n",
    "        r.extract_keywords_from_text(corpus[i])\n",
    "        # To get keyword phrases ranked highest to lowest.\n",
    "        keywords = r.get_ranked_phrases()[:terms_to_consider]\n",
    "\n",
    "        # ensure length of list for appending\n",
    "        for i in range(max(terms_to_consider - len(keywords), 0)):\n",
    "            keywords.append(\"\")\n",
    "        keywords_list.append(keywords)\n",
    "    \n",
    "    return keywords_list"
   ]
  },
  {
   "cell_type": "code",
   "execution_count": null,
   "metadata": {},
   "outputs": [],
   "source": [
    "# function to find occurence of each keyword\n",
    "def fill_occurence_dict(keyword_lists):\n",
    "    dictionary = {}\n",
    "\n",
    "    # initialize dictionary\n",
    "    for keyword_list in keyword_lists:\n",
    "        for keyword in keyword_list:\n",
    "            dictionary[keyword] = []\n",
    "\n",
    "    # fill unique occurence\n",
    "    for i in range(len(keyword_lists)):\n",
    "        for keyword in keyword_lists[i]:\n",
    "            if i not in dictionary[keyword]:\n",
    "                dictionary[keyword].append(i)\n",
    "\n",
    "    return dictionary"
   ]
  },
  {
   "cell_type": "code",
   "execution_count": null,
   "metadata": {},
   "outputs": [],
   "source": [
    "# function to print frequently occuring nouns\n",
    "def print_top_keywords(dictionary):\n",
    "    df_top_nouns = pd.DataFrame(columns=[\"keyword\", \"occurence\"])\n",
    "    for key, value in dictionary.items():\n",
    "        if len(value) > 1:\n",
    "            df_top_nouns.loc[len(df_top_nouns.index)] = [key, len(value)]\n",
    "    \n",
    "    # sort based on frequency\n",
    "    df_top_nouns.sort_values(\"occurence\", ascending=False, inplace=True)\n",
    "    df_top_nouns.reset_index(inplace=True, drop=True)\n",
    "    \n",
    "    print(df_top_nouns.to_string())\n",
    "    print()"
   ]
  },
  {
   "cell_type": "code",
   "execution_count": null,
   "metadata": {},
   "outputs": [],
   "source": [
    "# get document corpus\n",
    "successful_blog_list = []\n",
    "document_corpus = []\n",
    "\n",
    "# iterate through all blogs\n",
    "for blog_link in df[\"Blog Link\"]:\n",
    "    # getting page response\n",
    "    html_response = requests.get(blog_link)\n",
    "    if(html_response.status_code != 200):\n",
    "        continue\n",
    "\n",
    "    # get page content\n",
    "    all_text = get_page_text(html_response)\n",
    "\n",
    "    # lemmatize and clean sentence\n",
    "    clean_text = clean_page_text(all_text)\n",
    "\n",
    "    # store data\n",
    "    successful_blog_list.append(blog_link)\n",
    "    document_corpus.append(clean_text)"
   ]
  },
  {
   "cell_type": "code",
   "execution_count": null,
   "metadata": {},
   "outputs": [],
   "source": [
    "# get top keywords\n",
    "top_keywords_1 = get_top_keywords(document_corpus, 1)\n",
    "top_keywords_2 = get_top_keywords(document_corpus, 2)\n",
    "top_keywords_3 = get_top_keywords(document_corpus, 3)"
   ]
  },
  {
   "cell_type": "code",
   "execution_count": null,
   "metadata": {},
   "outputs": [],
   "source": [
    "# fill all occurence dictionaries\n",
    "occurence_count_1 = fill_occurence_dict(top_keywords_1)\n",
    "occurence_count_2 = fill_occurence_dict(top_keywords_2)\n",
    "occurence_count_3 = fill_occurence_dict(top_keywords_3)"
   ]
  },
  {
   "cell_type": "code",
   "execution_count": null,
   "metadata": {},
   "outputs": [],
   "source": [
    "# print all output\n",
    "# set output path\n",
    "output_path = os.path.abspath(os.path.join(curr_path, \"../..\", \"Outputs/blogwise_rake.txt\"))\n",
    "\n",
    "# write to file\n",
    "original_stdout = sys.stdout\n",
    "with open(output_path, \"w\") as f:\n",
    "    sys.stdout = f\n",
    "\n",
    "    print(\"KEYWORDS OCCURING IN MULTIPLE BLOGS:\")\n",
    "    print()\n",
    "    # print summary\n",
    "    print(\"1-gram:\")    \n",
    "    print_top_keywords(occurence_count_1)\n",
    "    print(\"2-gram:\")\n",
    "    print_top_keywords(occurence_count_2)\n",
    "    print(\"3-gram:\")\n",
    "    print_top_keywords(occurence_count_3)\n",
    "\n",
    "    print()\n",
    "    print()\n",
    "    print()\n",
    "\n",
    "    print(\"INDIVIDUAL BLOG ANALYSIS:\")\n",
    "    print()\n",
    "\n",
    "    # print blog wise result\n",
    "    for i in range(len(successful_blog_list)):    \n",
    "        print(successful_blog_list[i])\n",
    "\n",
    "        # create df for output\n",
    "        df_output = pd.DataFrame()\n",
    "        df_output[\"1-gram\"] = top_keywords_1[i]\n",
    "        df_output[\"2-gram\"] = top_keywords_2[i]\n",
    "        df_output[\"3-gram\"] = top_keywords_3[i]\n",
    "        \n",
    "        # remove empty rows\n",
    "        df_output = df_output.loc[df_output[\"1-gram\"] + df_output[\"2-gram\"] + df_output[\"3-gram\"] != \"\"]\n",
    "        \n",
    "        print(df_output.to_string())\n",
    "        print()\n",
    "    \n",
    "    # reset stdout\n",
    "    sys.stdout = original_stdout"
   ]
  }
 ],
 "metadata": {
  "interpreter": {
   "hash": "473418c0e77683684e48f36ee0a4eb17769bc02766a503d3556a3480c1d685e5"
  },
  "kernelspec": {
   "display_name": "Python 3.8.8 ('base')",
   "language": "python",
   "name": "python3"
  },
  "language_info": {
   "codemirror_mode": {
    "name": "ipython",
    "version": 3
   },
   "file_extension": ".py",
   "mimetype": "text/x-python",
   "name": "python",
   "nbconvert_exporter": "python",
   "pygments_lexer": "ipython3",
   "version": "3.10.0"
  },
  "orig_nbformat": 4
 },
 "nbformat": 4,
 "nbformat_minor": 2
}
