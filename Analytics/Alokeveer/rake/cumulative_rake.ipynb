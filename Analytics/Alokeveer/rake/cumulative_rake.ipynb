{
 "cells": [
  {
   "cell_type": "code",
   "execution_count": 10,
   "metadata": {},
   "outputs": [],
   "source": [
    "# standard imports\n",
    "import os\n",
    "import re\n",
    "import sys\n",
    "import requests\n",
    "import unicodedata\n",
    "import pandas as pd\n",
    "from bs4 import BeautifulSoup\n",
    "\n",
    "# natural language processing\n",
    "import nltk\n",
    "from rake_nltk import Rake"
   ]
  },
  {
   "cell_type": "code",
   "execution_count": 11,
   "metadata": {},
   "outputs": [],
   "source": [
    "# pandas display settings\n",
    "pd.options.display.max_columns = None\n",
    "pd.options.display.max_rows = None\n",
    "pd.options.display.width = None"
   ]
  },
  {
   "cell_type": "code",
   "execution_count": 12,
   "metadata": {},
   "outputs": [],
   "source": [
    "# number of ngrams to consider from each blog\n",
    "terms_to_consider = 100"
   ]
  },
  {
   "cell_type": "code",
   "execution_count": 13,
   "metadata": {},
   "outputs": [],
   "source": [
    "# read and store all stopwords in lowercase\n",
    "curr_path = os.path.abspath(\"blogwise_rake.ipynb\")\n",
    "stopwords_path = os.path.abspath(os.path.join(curr_path, \"../../../..\", \"Read_Files\", \"stopwords_cleaned.txt\"))\n",
    "with open(stopwords_path) as file:\n",
    "    stopwords = [line.strip().lower() for line in file]"
   ]
  },
  {
   "cell_type": "code",
   "execution_count": 14,
   "metadata": {},
   "outputs": [],
   "source": [
    "# get all links\n",
    "csv_path = os.path.abspath(os.path.join(curr_path, \"../..\", \"alokeveer_analytics_data.csv\"))\n",
    "df = pd.read_csv(csv_path)\n",
    "no_of_blogs = df.shape[0]"
   ]
  },
  {
   "cell_type": "code",
   "execution_count": 15,
   "metadata": {},
   "outputs": [],
   "source": [
    "# function to get all page content from html response\n",
    "def get_page_text(html_response):\n",
    "    # getting page content\n",
    "    html_text = html_response.text\n",
    "    soup = BeautifulSoup(html_text, \"lxml\")\n",
    "\n",
    "    # various sources of text\n",
    "    para_text = [element.text.strip() for element in soup.find_all(\"p\")]\n",
    "    header_text = [element.text.strip() for element in soup.find_all([\"h1\", \"h2\", \"h3\", \"h4\", \"h5\", \"h6\"])]\n",
    "    span_text = [element.text.strip() for element in soup.find_all(\"span\")]\n",
    "    all_text = para_text + header_text + span_text\n",
    "    \n",
    "    return \" \".join(all_text)"
   ]
  },
  {
   "cell_type": "code",
   "execution_count": 16,
   "metadata": {},
   "outputs": [],
   "source": [
    "# function to lemmatize and clean page text\n",
    "def clean_page_text(text):\n",
    "    # lemmatizer\n",
    "    wnl = nltk.stem.WordNetLemmatizer()\n",
    "\n",
    "    # text cleaning\n",
    "    text = (unicodedata.normalize('NFKD', text).encode('ascii', 'ignore').decode('utf-8', 'ignore').lower())\n",
    "    text = text.replace(\"/\", \" \")\n",
    "    text = text.replace(\"-\", \" \")\n",
    "    words = re.sub(r'[^\\w\\s]', '', text).split()\n",
    "\n",
    "    return \" \".join([wnl.lemmatize(word) for word in words])"
   ]
  },
  {
   "cell_type": "code",
   "execution_count": 17,
   "metadata": {},
   "outputs": [],
   "source": [
    "# function to store top scoring words from each blog in corpus\n",
    "def get_top_keywords(corpus, n):\n",
    "    keywords_list = []\n",
    "    \n",
    "    # apply rake for each blog\n",
    "    for i in range(len(corpus)):\n",
    "        r = Rake(stopwords=stopwords, min_length=n, max_length=n, include_repeated_phrases=False)\n",
    "        # Extraction given the text.\n",
    "        r.extract_keywords_from_text(corpus[i])\n",
    "        # To get keyword phrases ranked highest to lowest.\n",
    "        keywords = r.get_ranked_phrases()[:terms_to_consider]\n",
    "\n",
    "        # ensure length of list for appending\n",
    "        for i in range(max(terms_to_consider - len(keywords), 0)):\n",
    "            keywords.append(\"\")\n",
    "        keywords_list.append(keywords)\n",
    "    \n",
    "    return keywords_list"
   ]
  },
  {
   "cell_type": "code",
   "execution_count": 18,
   "metadata": {},
   "outputs": [],
   "source": [
    "# get document corpus\n",
    "successful_blog_list = []\n",
    "document_corpus = []\n",
    "\n",
    "# iterate through all blogs\n",
    "for blog_link in df[\"Blog Link\"]:\n",
    "    # getting page response\n",
    "    html_response = requests.get(blog_link)\n",
    "    if(html_response.status_code != 200):\n",
    "        continue\n",
    "\n",
    "    # get page content\n",
    "    all_text = get_page_text(html_response)\n",
    "\n",
    "    # lemmatize and clean sentence\n",
    "    clean_text = clean_page_text(all_text)\n",
    "\n",
    "    # store data\n",
    "    successful_blog_list.append(blog_link)\n",
    "    document_corpus.append(clean_text)"
   ]
  },
  {
   "cell_type": "code",
   "execution_count": null,
   "metadata": {},
   "outputs": [],
   "source": [
    "# get top keywords\n",
    "top_keywords_1 = get_top_keywords([\" \".join(document_corpus)], 1)\n",
    "top_keywords_2 = get_top_keywords([\" \".join(document_corpus)], 2)\n",
    "top_keywords_3 = get_top_keywords([\" \".join(document_corpus)], 3)"
   ]
  },
  {
   "cell_type": "code",
   "execution_count": null,
   "metadata": {},
   "outputs": [],
   "source": [
    "# print all output\n",
    "# set output path\n",
    "output_path = os.path.abspath(os.path.join(curr_path, \"../..\", \"Outputs/cumulative_rake.txt\"))\n",
    "\n",
    "# write to file\n",
    "original_stdout = sys.stdout\n",
    "with open(output_path, \"w\") as f:\n",
    "    sys.stdout = f\n",
    "\n",
    "    print(\"KEYWORDS FROM DOCUMENT CORPUS:\")\n",
    "    print()\n",
    "\n",
    "    df_output = pd.DataFrame()\n",
    "    df_output[\"1-gram\"] = top_keywords_1[0]\n",
    "    df_output[\"2-gram\"] = top_keywords_2[0]\n",
    "    df_output[\"3-gram\"] = top_keywords_3[0]\n",
    "\n",
    "    print(df_output.to_string())\n",
    "    print()\n",
    "\n",
    "    # reset stdout\n",
    "    sys.stdout = original_stdout"
   ]
  }
 ],
 "metadata": {
  "interpreter": {
   "hash": "473418c0e77683684e48f36ee0a4eb17769bc02766a503d3556a3480c1d685e5"
  },
  "kernelspec": {
   "display_name": "Python 3.8.8 ('base')",
   "language": "python",
   "name": "python3"
  },
  "language_info": {
   "codemirror_mode": {
    "name": "ipython",
    "version": 3
   },
   "file_extension": ".py",
   "mimetype": "text/x-python",
   "name": "python",
   "nbconvert_exporter": "python",
   "pygments_lexer": "ipython3",
   "version": "3.10.0"
  },
  "orig_nbformat": 4
 },
 "nbformat": 4,
 "nbformat_minor": 2
}
