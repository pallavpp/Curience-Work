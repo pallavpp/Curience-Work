{
 "cells": [
  {
   "cell_type": "code",
   "execution_count": 1,
   "metadata": {},
   "outputs": [],
   "source": [
    "# standard imports\n",
    "import os\n",
    "import re\n",
    "import sys\n",
    "import requests\n",
    "import unicodedata\n",
    "import numpy as np\n",
    "import pandas as pd\n",
    "from bs4 import BeautifulSoup\n",
    "\n",
    "# natural language processing\n",
    "import nltk\n",
    "from sklearn.feature_extraction.text import TfidfVectorizer"
   ]
  },
  {
   "cell_type": "code",
   "execution_count": 2,
   "metadata": {},
   "outputs": [],
   "source": [
    "# pandas display settings\n",
    "pd.options.display.max_columns = None\n",
    "pd.options.display.max_rows = None\n",
    "pd.options.display.width = None"
   ]
  },
  {
   "cell_type": "code",
   "execution_count": 3,
   "metadata": {},
   "outputs": [],
   "source": [
    "# number of ngrams to consider from each blog\n",
    "terms_to_consider = 50"
   ]
  },
  {
   "cell_type": "code",
   "execution_count": 4,
   "metadata": {},
   "outputs": [],
   "source": [
    "# read and store all stopwords in lowercase\n",
    "curr_path = os.path.abspath(\"cumulative_tfidf.ipynb\")\n",
    "stopwords_path = os.path.abspath(os.path.join(curr_path, \"../../../..\", \"Read_Files\", \"stopwords_cleaned.txt\"))\n",
    "with open(stopwords_path) as file:\n",
    "    stopwords = [line.strip().lower() for line in file]"
   ]
  },
  {
   "cell_type": "code",
   "execution_count": 5,
   "metadata": {},
   "outputs": [],
   "source": [
    "# get all links\n",
    "csv_path = os.path.abspath(os.path.join(curr_path, \"../..\", \"alokeveer_analytics_data.csv\"))\n",
    "df = pd.read_csv(csv_path)\n",
    "no_of_blogs = df.shape[0]"
   ]
  },
  {
   "cell_type": "code",
   "execution_count": 6,
   "metadata": {},
   "outputs": [],
   "source": [
    "# function to get all page content from html response\n",
    "def get_page_text(html_response):\n",
    "    # getting page content\n",
    "    html_text = html_response.text\n",
    "    soup = BeautifulSoup(html_text, \"lxml\")\n",
    "\n",
    "    # various sources of text\n",
    "    para_text = [element.text.strip() for element in soup.find_all(\"p\")]\n",
    "    header_text = [element.text.strip() for element in soup.find_all([\"h1\", \"h2\", \"h3\", \"h4\", \"h5\", \"h6\"])]\n",
    "    span_text = [element.text.strip() for element in soup.find_all(\"span\")]\n",
    "    all_text = para_text + header_text + span_text\n",
    "    \n",
    "    return \" \".join(all_text)"
   ]
  },
  {
   "cell_type": "code",
   "execution_count": 7,
   "metadata": {},
   "outputs": [],
   "source": [
    "# function to lemmatize and clean page text\n",
    "def clean_page_text(text):\n",
    "    # lemmatizer\n",
    "    wnl = nltk.stem.WordNetLemmatizer()\n",
    "\n",
    "    # text cleaning\n",
    "    text = (unicodedata.normalize('NFKD', text).encode('ascii', 'ignore').decode('utf-8', 'ignore').lower())\n",
    "    text = text.replace(\"/\", \" \")\n",
    "    text = text.replace(\"-\", \" \")\n",
    "    words = re.sub(r'[^\\w\\s]', '', text).split()\n",
    "\n",
    "    return \" \".join([wnl.lemmatize(word) for word in words if wnl.lemmatize(word) not in stopwords])"
   ]
  },
  {
   "cell_type": "code",
   "execution_count": 8,
   "metadata": {},
   "outputs": [],
   "source": [
    "# function to store top scoring words from corpus\n",
    "def get_top_keywords(corpus, n):\n",
    "    # function to get tfidf scoring\n",
    "    vectorizer = TfidfVectorizer(stop_words=stopwords, ngram_range=(n, n))\n",
    "    tfIdf = vectorizer.fit_transform(corpus)\n",
    "    tfIdf_T = tfIdf.T.todense()\n",
    "\n",
    "    # get all scores\n",
    "    feature_names = vectorizer.get_feature_names()\n",
    "    feature_scores = [np.max(tfIdf_T[i]) for i in range(len(feature_names))]\n",
    "\n",
    "    # store data\n",
    "    df_tfidf_scores = pd.DataFrame({\"keyword\": feature_names, \"score\": feature_scores})\n",
    "    df_tfidf_scores.sort_values(\"score\", ascending=False, inplace=True)\n",
    "    df_tfidf_scores.reset_index(inplace=True, drop=True)\n",
    "    return df_tfidf_scores.head(terms_to_consider)[\"keyword\"]"
   ]
  },
  {
   "cell_type": "code",
   "execution_count": 9,
   "metadata": {},
   "outputs": [],
   "source": [
    "# get document corpus\n",
    "successful_blog_list = []\n",
    "document_corpus = []\n",
    "\n",
    "# iterate through all blogs\n",
    "for blog_link in df[\"Blog Link\"]:\n",
    "    # getting page response\n",
    "    html_response = requests.get(blog_link)\n",
    "    if(html_response.status_code != 200):\n",
    "        continue\n",
    "\n",
    "    # get page content\n",
    "    all_text = get_page_text(html_response)\n",
    "\n",
    "    # lemmatize and clean sentence\n",
    "    clean_text = clean_page_text(all_text)\n",
    "\n",
    "    # store data\n",
    "    successful_blog_list.append(blog_link)\n",
    "    document_corpus.append(clean_text)"
   ]
  },
  {
   "cell_type": "code",
   "execution_count": 10,
   "metadata": {},
   "outputs": [
    {
     "name": "stderr",
     "output_type": "stream",
     "text": [
      "C:\\Users\\aloke\\AppData\\Roaming\\Python\\Python310\\site-packages\\sklearn\\utils\\deprecation.py:87: FutureWarning: Function get_feature_names is deprecated; get_feature_names is deprecated in 1.0 and will be removed in 1.2. Please use get_feature_names_out instead.\n",
      "  warnings.warn(msg, category=FutureWarning)\n"
     ]
    }
   ],
   "source": [
    "# print all output\n",
    "# set output path\n",
    "output_path = os.path.abspath(os.path.join(curr_path, \"../..\", \"Outputs/cumulative_tfidf.txt\"))\n",
    "\n",
    "# write to file\n",
    "original_stdout = sys.stdout\n",
    "with open(output_path, \"w\") as f:\n",
    "    sys.stdout = f\n",
    "\n",
    "    print(\"KEYWORDS FROM CUMULATIVE SCORING:\")\n",
    "    print()\n",
    "\n",
    "    df_output = pd.DataFrame()\n",
    "    df_output[\"1-gram\"] = get_top_keywords(document_corpus, 1)\n",
    "    df_output[\"2-gram\"] = get_top_keywords(document_corpus, 2)\n",
    "    df_output[\"3-gram\"] = get_top_keywords(document_corpus, 3)\n",
    "    \n",
    "    print(df_output.to_string())\n",
    "    print()\n",
    "\n",
    "    # reset stdout\n",
    "    sys.stdout = original_stdout"
   ]
  },
  {
   "cell_type": "code",
   "execution_count": null,
   "metadata": {},
   "outputs": [],
   "source": []
  }
 ],
 "metadata": {
  "interpreter": {
   "hash": "473418c0e77683684e48f36ee0a4eb17769bc02766a503d3556a3480c1d685e5"
  },
  "kernelspec": {
   "display_name": "Python 3.8.8 ('base')",
   "language": "python",
   "name": "python3"
  },
  "language_info": {
   "codemirror_mode": {
    "name": "ipython",
    "version": 3
   },
   "file_extension": ".py",
   "mimetype": "text/x-python",
   "name": "python",
   "nbconvert_exporter": "python",
   "pygments_lexer": "ipython3",
   "version": "3.10.0"
  },
  "orig_nbformat": 4
 },
 "nbformat": 4,
 "nbformat_minor": 2
}
