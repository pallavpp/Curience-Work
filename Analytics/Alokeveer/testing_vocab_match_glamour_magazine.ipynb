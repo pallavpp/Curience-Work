{
 "cells": [
  {
   "cell_type": "code",
   "execution_count": 57,
   "metadata": {},
   "outputs": [],
   "source": [
    "# custom imports\n",
    "import os\n",
    "import sys\n",
    "\n",
    "# import module \n",
    "import requests \n",
    "import pandas as pd \n",
    "from bs4 import BeautifulSoup \n",
    "import matplotlib.pyplot as plt "
   ]
  },
  {
   "cell_type": "code",
   "execution_count": 58,
   "metadata": {},
   "outputs": [],
   "source": [
    "# natural language processing: n-gram ranking\n",
    "import re\n",
    "import unicodedata\n",
    "import nltk\n",
    "from nltk.corpus import stopwords"
   ]
  },
  {
   "cell_type": "code",
   "execution_count": 59,
   "metadata": {},
   "outputs": [],
   "source": [
    "# store all stopwords\n",
    "additional_stopwords = []\n",
    "stopwords = nltk.corpus.stopwords.words('english') + additional_stopwords"
   ]
  },
  {
   "cell_type": "code",
   "execution_count": 60,
   "metadata": {},
   "outputs": [],
   "source": [
    "# function to cleanup text and find words in it\n",
    "def extract_sentences_from_text(text):\n",
    "\n",
    "    #sentence list\n",
    "    return [sentence.strip() for sentence in text.split('.') if sentence != \"\"]"
   ]
  },
  {
   "cell_type": "code",
   "execution_count": 61,
   "metadata": {},
   "outputs": [],
   "source": [
    "def extract_vocabulary():\n",
    "    curr_path = os.path.abspath(\"testing_vocab_match_glamour_magazine.ipynb\")\n",
    "    df_path = os.path.abspath(os.path.join(curr_path, \"../../..\", \"Read_Files/fashion_vocabulary.csv\"))\n",
    "    df = pd.read_csv(df_path)\n",
    "\n",
    "    vocabulary_list = [v.lower() for v in df['Specifications']]\n",
    "\n",
    "    return vocabulary_list"
   ]
  },
  {
   "cell_type": "code",
   "execution_count": 62,
   "metadata": {},
   "outputs": [],
   "source": [
    "def edit_distance(words, vocabulary):\n",
    "    lis = []\n",
    "    \n",
    "    for extracted_word in words:\n",
    "        for vocab in vocabulary:\n",
    "            cnt = 0\n",
    "            for i in range(max(len(vocab), len(extracted_word))):\n",
    "                if i >= len(vocab) or i >= len(extracted_word):\n",
    "                    cnt += 1\n",
    "                elif vocab[i] != extracted_word[i]:\n",
    "                    cnt += 1\n",
    "            \n",
    "            lis.append([vocab, extracted_word, cnt])\n",
    "\n",
    "    df = pd.DataFrame(lis, columns=[\"Vocaubulary\", \"Extracted word\", \"Edit distance\"])\n",
    "    df.sort_values(by=\"Edit distance\", inplace=True)\n",
    "\n",
    "    print(df)\n",
    "\n",
    "    all_matching_words = set()\n",
    "    \n",
    "    for index, row in df.iterrows():\n",
    "        if row[\"Edit distance\"] == 0:\n",
    "            all_matching_words.add(row[\"Extracted word\"])\n",
    "    \n",
    "    print(all_matching_words)\n"
   ]
  },
  {
   "cell_type": "code",
   "execution_count": 63,
   "metadata": {},
   "outputs": [],
   "source": [
    "# getting page content\n",
    "html_response = requests.get(\"https://www.glamourmagazine.co.uk/gallery/spring-summer-2022-fashion-trends\")\n",
    "html_text = html_response.text\n",
    "soup = BeautifulSoup(html_text, \"lxml\")"
   ]
  },
  {
   "cell_type": "code",
   "execution_count": null,
   "metadata": {},
   "outputs": [],
   "source": [
    "# various sources of text\n",
    "para_texts = [element.text.strip() for element in soup.find_all(\"p\")]\n",
    "for p in range(len(para_texts)):\n",
    "    if para_texts[p] == \"\":\n",
    "        continue\n",
    "    if para_texts[p][-1] != '.':\n",
    "        para_texts[p] += '.'\n",
    "\n",
    "header_texts = [element.text.strip() for element in soup.find_all([\"h1\", \"h2\", \"h3\", \"h4\", \"h5\", \"h6\"])]\n",
    "for p in range(len(header_texts)):\n",
    "    if header_texts[p] == \"\":\n",
    "        continue\n",
    "    if header_texts[p][-1] != '.':\n",
    "        header_texts[p] += '.'\n",
    "\n",
    "span_texts = [element.text.strip() for element in soup.find_all(\"span\")]\n",
    "for p in range(len(span_texts)):\n",
    "    if span_texts[p] == \"\":\n",
    "        continue\n",
    "    if span_texts[p][-1] != '.':\n",
    "        span_texts[p] += '.'\n",
    "\n",
    "all_texts = para_texts + header_texts + span_texts\n",
    "all_texts_string = \"\"\n",
    "for v in all_texts:\n",
    "    all_texts_string += v\n",
    "\n",
    "all_texts_string = all_texts_string.lower()\n",
    "\n",
    "print(all_texts_string)"
   ]
  },
  {
   "cell_type": "code",
   "execution_count": null,
   "metadata": {},
   "outputs": [],
   "source": [
    "sentences = extract_sentences_from_text(text=all_texts_string)\n",
    "print(len(sentences))\n",
    "vocabulary = extract_vocabulary()\n",
    "print(vocabulary)"
   ]
  },
  {
   "cell_type": "code",
   "execution_count": 70,
   "metadata": {},
   "outputs": [
    {
     "name": "stdout",
     "output_type": "stream",
     "text": [
      "1\n",
      "whether it's a top with multi-straps across the shoulders and décolletage, trousers with a strapped waistband criss-crossing across the stomach – or, indeed, both – you'll have to forgo any worries of awkward tan lines next season and embrace the straps\n"
     ]
    }
   ],
   "source": [
    "list_of_sentences = list()\n",
    "set_of_sentences = set()\n",
    "\n",
    "for v in vocabulary:\n",
    "    l = [word for word in v.split(' ')]\n",
    "    if len(l) > 2:\n",
    "        continue\n",
    "    for sentence in sentences:\n",
    "        sentence_split = [word for word in sentence.split(' ')]\n",
    "        cur = -1\n",
    "        for i in range(len(sentence_split)):\n",
    "            if sentence_split[i].startswith(l[-1]) == True:\n",
    "                cur = i\n",
    "                break\n",
    "        \n",
    "        if cur == -1:\n",
    "            continue\n",
    "\n",
    "        if len(l) == 1 or len(sentence_split) == 1:\n",
    "            set_of_sentences.add(sentence)\n",
    "        else:\n",
    "            j = i-1\n",
    "            k = i+1\n",
    "\n",
    "            while j >= 0 and i-j <= 3:\n",
    "                if sentence_split[j].startswith(l[-2]) == True:\n",
    "                    set_of_sentences.add(sentence)\n",
    "                    break\n",
    "                j -= 1\n",
    "\n",
    "            while k < len(sentence_split) and k-i <= 3:\n",
    "                if sentence_split[k].startswith(l[-2]) == True:\n",
    "                    set_of_sentences.add(sentence)\n",
    "                    break\n",
    "                k += 1            \n",
    "\n",
    "print(len(set_of_sentences))\n",
    "for p in set_of_sentences:\n",
    "    print(p)"
   ]
  },
  {
   "cell_type": "code",
   "execution_count": null,
   "metadata": {},
   "outputs": [],
   "source": []
  },
  {
   "cell_type": "code",
   "execution_count": null,
   "metadata": {},
   "outputs": [],
   "source": []
  }
 ],
 "metadata": {
  "interpreter": {
   "hash": "2be5faf79681da6f2a61fdfdd5405d65d042280f7fba6178067603e3a2925119"
  },
  "kernelspec": {
   "display_name": "Python 3.10.0 64-bit",
   "language": "python",
   "name": "python3"
  },
  "language_info": {
   "codemirror_mode": {
    "name": "ipython",
    "version": 3
   },
   "file_extension": ".py",
   "mimetype": "text/x-python",
   "name": "python",
   "nbconvert_exporter": "python",
   "pygments_lexer": "ipython3",
   "version": "3.10.0"
  },
  "orig_nbformat": 4
 },
 "nbformat": 4,
 "nbformat_minor": 2
}
