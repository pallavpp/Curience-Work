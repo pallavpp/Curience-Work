{
 "cells": [
  {
   "cell_type": "code",
   "execution_count": null,
   "metadata": {},
   "outputs": [],
   "source": [
    "# standard imports\n",
    "import os\n",
    "import re\n",
    "import sys\n",
    "import requests\n",
    "import unicodedata\n",
    "import pandas as pd\n",
    "from bs4 import BeautifulSoup\n",
    "\n",
    "# natural language processing\n",
    "import nltk"
   ]
  },
  {
   "cell_type": "code",
   "execution_count": null,
   "metadata": {},
   "outputs": [],
   "source": [
    "# pandas display settings\n",
    "pd.options.display.max_columns = None\n",
    "pd.options.display.max_rows = None\n",
    "pd.options.display.width = None"
   ]
  },
  {
   "cell_type": "code",
   "execution_count": null,
   "metadata": {},
   "outputs": [],
   "source": [
    "# number of ngrams to consider from each blog\n",
    "terms_to_consider = 20"
   ]
  },
  {
   "cell_type": "code",
   "execution_count": null,
   "metadata": {},
   "outputs": [],
   "source": [
    "# read and store all stopwords in lowercase\n",
    "curr_path = os.path.abspath(\"nouns_from_ngrams.ipynb\")\n",
    "stopwords_path = os.path.abspath(os.path.join(curr_path, \"../../../..\", \"Read_Files\", \"stopwords_cleaned.txt\"))\n",
    "with open(stopwords_path) as file:\n",
    "    stopwords = [line.strip().lower() for line in file]"
   ]
  },
  {
   "cell_type": "code",
   "execution_count": null,
   "metadata": {},
   "outputs": [],
   "source": [
    "# get all links\n",
    "csv_path = os.path.abspath(os.path.join(curr_path, \"../..\", \"alokeveer_analytics_data.csv\"))\n",
    "df = pd.read_csv(csv_path)\n",
    "no_of_blogs = df.shape[0]"
   ]
  },
  {
   "cell_type": "code",
   "execution_count": null,
   "metadata": {},
   "outputs": [],
   "source": [
    "# lists for storing data, _i stands for i-gram data\n",
    "successful_blog_list = []\n",
    "noun_lists_1 = []\n",
    "noun_lists_2 = []\n",
    "noun_lists_3 = []\n",
    "occurence_count_1 = {}\n",
    "occurence_count_2 = {}\n",
    "occurence_count_3 = {}"
   ]
  },
  {
   "cell_type": "code",
   "execution_count": null,
   "metadata": {},
   "outputs": [],
   "source": [
    "# function to get all page content from html response\n",
    "def get_page_text(html_response):\n",
    "    # getting page content\n",
    "    html_text = html_response.text\n",
    "    soup = BeautifulSoup(html_text, \"lxml\")\n",
    "\n",
    "    # various sources of text\n",
    "    para_text = [element.text.strip() for element in soup.find_all(\"p\")]\n",
    "    header_text = [element.text.strip() for element in soup.find_all([\"h1\", \"h2\", \"h3\", \"h4\", \"h5\", \"h6\"])]\n",
    "    span_text = [element.text.strip() for element in soup.find_all(\"span\")]\n",
    "    all_text = para_text + header_text + span_text\n",
    "    \n",
    "    return \" \".join(all_text)"
   ]
  },
  {
   "cell_type": "code",
   "execution_count": null,
   "metadata": {},
   "outputs": [],
   "source": [
    "# function to cleanup text and find words in it\n",
    "def extract_words_from_text(text):\n",
    "    # text cleaning\n",
    "    text = (unicodedata.normalize('NFKD', text).encode('ascii', 'ignore').decode('utf-8', 'ignore'))\n",
    "\n",
    "    # replace '/' and '-' in words for correct spacing\n",
    "    text = text.replace(\"/\", \" \")\n",
    "    text = text.replace(\"-\", \" \")\n",
    "    words = re.sub(r'[^\\w\\s]', '', text).split()\n",
    "\n",
    "    # word list\n",
    "    return [word for word in words if word.lower() not in stopwords]"
   ]
  },
  {
   "cell_type": "code",
   "execution_count": null,
   "metadata": {},
   "outputs": [],
   "source": [
    "# function to find most frequent ngrams from word list\n",
    "def find_ngrams(words, n):\n",
    "    # find term frequency\n",
    "    series = (pd.Series(nltk.ngrams(words, n)).value_counts())[:terms_to_consider]\n",
    "    \n",
    "    # store top results\n",
    "    ngrams = []\n",
    "    for tup in series.index:\n",
    "        ngrams.append(\" \".join(tup))\n",
    "    \n",
    "    # ensure length of list for appending\n",
    "    for i in range(max(terms_to_consider - len(ngrams), 0)):\n",
    "        ngrams.append(\"\")\n",
    "    \n",
    "    return ngrams"
   ]
  },
  {
   "cell_type": "code",
   "execution_count": null,
   "metadata": {},
   "outputs": [],
   "source": [
    "# function to return words having capital letters from frequent ngrams\n",
    "def find_nouns(ngrams):\n",
    "    nouns = [ngram for ngram in ngrams if ((not ngram.islower()) and (not ngram.isupper()))]\n",
    "    \n",
    "    # ensure length of list for appending\n",
    "    for i in range(max(terms_to_consider - len(nouns), 0)):\n",
    "        nouns.append(\"\")\n",
    "    \n",
    "    return nouns"
   ]
  },
  {
   "cell_type": "code",
   "execution_count": null,
   "metadata": {},
   "outputs": [],
   "source": [
    "# function to find document frequency of each noun\n",
    "def fill_occurence_dict(noun_lists):\n",
    "    dictionary = {}\n",
    "    \n",
    "    # initialize dictionary\n",
    "    for noun_list in noun_lists:\n",
    "        for noun in noun_list:\n",
    "            if noun != \"\":\n",
    "                dictionary[noun] = []\n",
    "\n",
    "    # fill unique occurence\n",
    "    for i in range(len(noun_lists)):\n",
    "        for noun in noun_lists[i]:\n",
    "            if (noun != \"\") and (i not in dictionary[noun]):\n",
    "                dictionary[noun].append(i)\n",
    "\n",
    "    return dictionary"
   ]
  },
  {
   "cell_type": "code",
   "execution_count": null,
   "metadata": {},
   "outputs": [],
   "source": [
    "# function to print frequently occuring nouns\n",
    "def print_top_nouns(dictionary):\n",
    "    # create df from dictionary\n",
    "    df_top_nouns = pd.DataFrame(columns=[\"keyword\", \"occurence\"])\n",
    "    for key, value in dictionary.items():\n",
    "        if len(value) > 1:\n",
    "            df_top_nouns.loc[len(df_top_nouns.index)] = [key, len(value)]\n",
    "    \n",
    "    # sort based on frequency\n",
    "    df_top_nouns.sort_values(\"occurence\", ascending=False, inplace=True)\n",
    "    df_top_nouns.reset_index(inplace=True, drop=True)\n",
    "\n",
    "    print(df_top_nouns.to_string())\n",
    "    print()"
   ]
  },
  {
   "cell_type": "code",
   "execution_count": null,
   "metadata": {},
   "outputs": [],
   "source": [
    "# iterate through all blogs\n",
    "for blog_link in df[\"Blog Link\"]:\n",
    "    # getting page response\n",
    "    html_response = requests.get(blog_link)\n",
    "    if(html_response.status_code != 200):\n",
    "        continue\n",
    "\n",
    "    # get page content\n",
    "    all_text = get_page_text(html_response)\n",
    "\n",
    "    # get words list\n",
    "    words = extract_words_from_text(all_text)\n",
    "\n",
    "    # get top ngrams for each blog\n",
    "    ngrams_1 = find_ngrams(words, 1)\n",
    "    ngrams_2 = find_ngrams(words, 2)\n",
    "    ngrams_3 = find_ngrams(words, 3)\n",
    "    \n",
    "    # get nouns from ngrams\n",
    "    nouns_1 = find_nouns(ngrams_1)\n",
    "    nouns_2 = find_nouns(ngrams_2)\n",
    "    nouns_3 = find_nouns(ngrams_3)\n",
    "\n",
    "    # store data\n",
    "    successful_blog_list.append(blog_link)\n",
    "    noun_lists_1.append(nouns_1)\n",
    "    noun_lists_2.append(nouns_2)\n",
    "    noun_lists_3.append(nouns_3)"
   ]
  },
  {
   "cell_type": "code",
   "execution_count": null,
   "metadata": {},
   "outputs": [],
   "source": [
    "# fill all occurence dictionaries\n",
    "occurence_count_1 = fill_occurence_dict(noun_lists_1)\n",
    "occurence_count_2 = fill_occurence_dict(noun_lists_2)\n",
    "occurence_count_3 = fill_occurence_dict(noun_lists_3)"
   ]
  },
  {
   "cell_type": "code",
   "execution_count": null,
   "metadata": {},
   "outputs": [],
   "source": [
    "# print all output\n",
    "# set output path\n",
    "output_path = os.path.abspath(os.path.join(curr_path, \"../..\", \"Outputs/nouns_from_ngrams.txt\"))\n",
    "\n",
    "# write to file\n",
    "original_stdout = sys.stdout\n",
    "with open(output_path, \"w\") as f:\n",
    "    sys.stdout = f\n",
    "\n",
    "    print(\"KEYWORDS OCCURING IN MULTIPLE BLOGS:\")\n",
    "    print()\n",
    "    # print summary\n",
    "    print(\"1-gram:\")    \n",
    "    print_top_nouns(occurence_count_1)\n",
    "    print(\"2-gram:\")\n",
    "    print_top_nouns(occurence_count_2)\n",
    "    print(\"3-gram:\")\n",
    "    print_top_nouns(occurence_count_3)\n",
    "\n",
    "    print()\n",
    "    print()\n",
    "    print()\n",
    "\n",
    "    print(\"INDIVIDUAL BLOG ANALYSIS:\")\n",
    "    print()\n",
    "\n",
    "    # print blog wise result\n",
    "    for i in range(len(successful_blog_list)):    \n",
    "        print(successful_blog_list[i])\n",
    "\n",
    "        # create df for output\n",
    "        df_output = pd.DataFrame()\n",
    "        df_output[\"1-gram\"] = noun_lists_1[i]\n",
    "        df_output[\"2-gram\"] = noun_lists_2[i]\n",
    "        df_output[\"3-gram\"] = noun_lists_3[i]\n",
    "        \n",
    "        # remove empty rows\n",
    "        df_output = df_output.loc[df_output[\"1-gram\"] + df_output[\"2-gram\"] + df_output[\"3-gram\"] != \"\"]\n",
    "        \n",
    "        print(df_output.to_string())\n",
    "        print()\n",
    "    \n",
    "    # reset stdout\n",
    "    sys.stdout = original_stdout"
   ]
  },
  {
   "cell_type": "code",
   "execution_count": null,
   "metadata": {},
   "outputs": [],
   "source": []
  }
 ],
 "metadata": {
  "interpreter": {
   "hash": "473418c0e77683684e48f36ee0a4eb17769bc02766a503d3556a3480c1d685e5"
  },
  "kernelspec": {
   "display_name": "Python 3.8.8 ('base')",
   "language": "python",
   "name": "python3"
  },
  "language_info": {
   "codemirror_mode": {
    "name": "ipython",
    "version": 3
   },
   "file_extension": ".py",
   "mimetype": "text/x-python",
   "name": "python",
   "nbconvert_exporter": "python",
   "pygments_lexer": "ipython3",
   "version": "3.10.0"
  },
  "orig_nbformat": 4
 },
 "nbformat": 4,
 "nbformat_minor": 2
}
