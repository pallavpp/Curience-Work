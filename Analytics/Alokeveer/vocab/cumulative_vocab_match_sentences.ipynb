{
 "cells": [
  {
   "cell_type": "code",
   "execution_count": 1,
   "metadata": {},
   "outputs": [],
   "source": [
    "# custom imports\n",
    "import os\n",
    "import sys\n",
    "\n",
    "# import module \n",
    "import requests \n",
    "import pandas as pd \n",
    "from bs4 import BeautifulSoup \n",
    "import matplotlib.pyplot as plt "
   ]
  },
  {
   "cell_type": "code",
   "execution_count": 2,
   "metadata": {},
   "outputs": [],
   "source": [
    "# natural language processing: n-gram ranking\n",
    "import re\n",
    "import unicodedata\n",
    "import nltk\n",
    "from nltk.corpus import stopwords"
   ]
  },
  {
   "cell_type": "code",
   "execution_count": 3,
   "metadata": {},
   "outputs": [],
   "source": [
    "# store all stopwords\n",
    "additional_stopwords = []\n",
    "stopwords = nltk.corpus.stopwords.words('english') + additional_stopwords"
   ]
  },
  {
   "cell_type": "code",
   "execution_count": 4,
   "metadata": {},
   "outputs": [],
   "source": [
    "# function to cleanup text and find words in it\n",
    "def extract_sentences_from_text(text):\n",
    "    return [sentence.strip() for sentence in text.split('.') if sentence != \"\"]"
   ]
  },
  {
   "cell_type": "code",
   "execution_count": 5,
   "metadata": {},
   "outputs": [],
   "source": [
    "def extract_vocabulary():\n",
    "    curr_path = os.path.abspath(\"cumulative_vocab_match_sentences.ipynb\")\n",
    "    df_path = os.path.abspath(os.path.join(curr_path, \"../../../..\", \"Read_Files/fashion_vocabulary.csv\"))\n",
    "    df = pd.read_csv(df_path)\n",
    "\n",
    "    vocabulary_list = [v.lower() for v in df['Specifications']]\n",
    "\n",
    "    return vocabulary_list"
   ]
  },
  {
   "cell_type": "code",
   "execution_count": 6,
   "metadata": {},
   "outputs": [],
   "source": [
    "def edit_distance(words, vocabulary):\n",
    "    lis = []\n",
    "    \n",
    "    for extracted_word in words:\n",
    "        for vocab in vocabulary:\n",
    "            cnt = 0\n",
    "            for i in range(max(len(vocab), len(extracted_word))):\n",
    "                if i >= len(vocab) or i >= len(extracted_word):\n",
    "                    cnt += 1\n",
    "                elif vocab[i] != extracted_word[i]:\n",
    "                    cnt += 1\n",
    "            \n",
    "            lis.append([vocab, extracted_word, cnt])\n",
    "\n",
    "    df = pd.DataFrame(lis, columns=[\"Vocaubulary\", \"Extracted word\", \"Edit distance\"])\n",
    "    df.sort_values(by=\"Edit distance\", inplace=True)\n",
    "\n",
    "    print(df)\n",
    "\n",
    "    all_matching_words = set()\n",
    "    \n",
    "    for index, row in df.iterrows():\n",
    "        if row[\"Edit distance\"] == 0:\n",
    "            all_matching_words.add(row[\"Extracted word\"])\n",
    "    \n",
    "    print(all_matching_words)\n"
   ]
  },
  {
   "cell_type": "code",
   "execution_count": 7,
   "metadata": {},
   "outputs": [],
   "source": [
    "# getting page content\n",
    "def getPageContent(link):\n",
    "    html_response = requests.get(link)\n",
    "    html_text = html_response.text\n",
    "    soup = BeautifulSoup(html_text, \"lxml\")\n",
    "    return soup"
   ]
  },
  {
   "cell_type": "code",
   "execution_count": 8,
   "metadata": {},
   "outputs": [],
   "source": [
    "# various sources of text\n",
    "def getContentFromTags(link):\n",
    "    soup = getPageContent(link)\n",
    "\n",
    "    para_texts = [element.text.strip() for element in soup.find_all(\"p\")]\n",
    "    for p in range(len(para_texts)):\n",
    "        if para_texts[p] == \"\":\n",
    "            continue\n",
    "        if para_texts[p][-1] != '.':\n",
    "            para_texts[p] += '. '\n",
    "\n",
    "    header_texts = [element.text.strip() for element in soup.find_all([\"h1\", \"h2\", \"h3\", \"h4\", \"h5\", \"h6\"])]\n",
    "    for p in range(len(header_texts)):\n",
    "        if header_texts[p] == \"\":\n",
    "            continue\n",
    "        if header_texts[p][-1] != '.':\n",
    "            header_texts[p] += '. '\n",
    "\n",
    "    span_texts = [element.text.strip() for element in soup.find_all(\"span\")]\n",
    "    for p in range(len(span_texts)):\n",
    "        if span_texts[p] == \"\":\n",
    "            continue\n",
    "        if span_texts[p][-1] != '.':\n",
    "            span_texts[p] += '. '\n",
    "\n",
    "    all_texts = para_texts + header_texts + span_texts\n",
    "    all_texts_string = \"\"\n",
    "    for v in all_texts:\n",
    "        all_texts_string += v\n",
    "\n",
    "    all_texts_string = all_texts_string.lower()\n",
    "\n",
    "    return all_texts_string"
   ]
  },
  {
   "cell_type": "code",
   "execution_count": 9,
   "metadata": {},
   "outputs": [],
   "source": [
    "def getTextFromAllBlogs():\n",
    "    curr_path = os.path.abspath(\"cumulative_vocab_match_sentences.ipynb\")\n",
    "    df_path = os.path.abspath(os.path.join(curr_path, \"../../\", \"alokeveer_analytics_data.csv\"))\n",
    "    df = pd.read_csv(df_path)\n",
    "\n",
    "    merged_string = \"\"\n",
    "\n",
    "    for link in df['Blog Link']:\n",
    "        st = getContentFromTags(str(link))\n",
    "        merged_string += st\n",
    "\n",
    "    return merged_string"
   ]
  },
  {
   "cell_type": "code",
   "execution_count": 10,
   "metadata": {},
   "outputs": [],
   "source": [
    "def FinalSentences():\n",
    "    set_of_sentences = set()\n",
    "\n",
    "    vocabulary = extract_vocabulary()\n",
    "    sentences = extract_sentences_from_text(getTextFromAllBlogs())\n",
    "\n",
    "    for v in vocabulary:\n",
    "        l = [word for word in v.split(' ')]\n",
    "        if len(l) > 2:\n",
    "            continue\n",
    "        for sentence in sentences:\n",
    "            sentence_split = [word for word in sentence.split(' ')]\n",
    "            cur = -1\n",
    "            for i in range(len(sentence_split)):\n",
    "                if sentence_split[i].startswith(l[-1]) == True:\n",
    "                    cur = i\n",
    "                    break\n",
    "            \n",
    "            if cur == -1:\n",
    "                continue\n",
    "\n",
    "            if len(l) == 1 or len(sentence_split) == 1:\n",
    "                # set_of_sentences.add(sentence)\n",
    "                continue\n",
    "            else:\n",
    "                j = i-1\n",
    "                k = i+1\n",
    "\n",
    "            while j >= 0 and i-j <= 3:\n",
    "                if sentence_split[j].startswith(l[-2]) == True:\n",
    "                    set_of_sentences.add(sentence)\n",
    "                    break\n",
    "                j -= 1\n",
    "\n",
    "            while k < len(sentence_split) and k-i <= 3:\n",
    "                if sentence_split[k].startswith(l[-2]) == True:\n",
    "                    set_of_sentences.add(sentence)\n",
    "                    break\n",
    "                k += 1       \n",
    "\n",
    "    return set_of_sentences    "
   ]
  },
  {
   "cell_type": "code",
   "execution_count": 11,
   "metadata": {},
   "outputs": [
    {
     "name": "stdout",
     "output_type": "stream",
     "text": [
      "e:\\Projects\\Curience-Work\\Analytics\\Alokeveer\\vocab\\cumulative_vocab_match_sentences.ipynb\n"
     ]
    }
   ],
   "source": [
    "# print summary\n",
    "# set output path\n",
    "curr_path = os.path.abspath(\"cumulative_vocab_match_sentences.ipynb\")\n",
    "print(curr_path)\n",
    "output_path = os.path.abspath(os.path.join(curr_path, \"../../\", \"Outputs/cumulative_vocab_match_sentences.txt\"))\n",
    "\n",
    "# write to file\n",
    "original_stdout = sys.stdout\n",
    "with open(output_path, \"w\") as f:\n",
    "    sys.stdout = f\n",
    "\n",
    "    print(\"Vocab match (Useful sentences) on all my blogs merged\")\n",
    "    print()\n",
    "\n",
    "    set_of_sentences = FinalSentences()\n",
    "    ind = 1\n",
    "    for final_sentence in set_of_sentences:\n",
    "        print(ind, \". \", final_sentence)\n",
    "        ind += 1\n",
    "    \n",
    "    # reset stdout\n",
    "    sys.stdout = original_stdout"
   ]
  }
 ],
 "metadata": {
  "interpreter": {
   "hash": "2be5faf79681da6f2a61fdfdd5405d65d042280f7fba6178067603e3a2925119"
  },
  "kernelspec": {
   "display_name": "Python 3.10.0 64-bit",
   "language": "python",
   "name": "python3"
  },
  "language_info": {
   "codemirror_mode": {
    "name": "ipython",
    "version": 3
   },
   "file_extension": ".py",
   "mimetype": "text/x-python",
   "name": "python",
   "nbconvert_exporter": "python",
   "pygments_lexer": "ipython3",
   "version": "3.10.0"
  },
  "orig_nbformat": 4
 },
 "nbformat": 4,
 "nbformat_minor": 2
}
