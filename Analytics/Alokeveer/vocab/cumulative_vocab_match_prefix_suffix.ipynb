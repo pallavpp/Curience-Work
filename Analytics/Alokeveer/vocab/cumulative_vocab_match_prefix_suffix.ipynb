{
 "cells": [
  {
   "cell_type": "code",
   "execution_count": 1,
   "metadata": {},
   "outputs": [],
   "source": [
    "# custom imports\n",
    "import os\n",
    "import sys\n",
    "\n",
    "# import module \n",
    "import requests \n",
    "import pandas as pd \n",
    "from bs4 import BeautifulSoup \n",
    "import matplotlib.pyplot as plt \n",
    "from collections import defaultdict\n",
    "import numpy as np"
   ]
  },
  {
   "cell_type": "code",
   "execution_count": 2,
   "metadata": {},
   "outputs": [],
   "source": [
    "# natural language processing: n-gram ranking\n",
    "import re\n",
    "import unicodedata\n",
    "import nltk\n",
    "from nltk.corpus import stopwords"
   ]
  },
  {
   "cell_type": "code",
   "execution_count": 3,
   "metadata": {},
   "outputs": [],
   "source": [
    "# pandas display settings\n",
    "pd.options.display.max_columns = None\n",
    "pd.options.display.max_rows = None\n",
    "pd.options.display.width = None"
   ]
  },
  {
   "cell_type": "code",
   "execution_count": 4,
   "metadata": {},
   "outputs": [],
   "source": [
    "# read and store all keywords in lowercase\n",
    "stopwords_path = os.path.abspath(os.path.join(os.path.abspath(\"cumulative_vocab_match_prefix_suffix.ipynb\"), \"../../../../Read_Files\", \"stopwords_cleaned.txt\"))\n",
    "with open(stopwords_path) as file:\n",
    "    stopwords = [line.strip().lower() for line in file]"
   ]
  },
  {
   "cell_type": "code",
   "execution_count": 5,
   "metadata": {},
   "outputs": [],
   "source": [
    "def extract_words_from_text(text):\n",
    "    words = [w for w in text.split(' ')]\n",
    "    return words"
   ]
  },
  {
   "cell_type": "code",
   "execution_count": 6,
   "metadata": {},
   "outputs": [],
   "source": [
    "def extract_vocabulary():\n",
    "    curr_path = os.path.abspath(\"cumulative_vocab_match_prefix_suffix.ipynb\")\n",
    "    df_path = os.path.abspath(os.path.join(curr_path, \"../../../..\", \"Read_Files/fashion_vocabulary.csv\"))\n",
    "    df = pd.read_csv(df_path)\n",
    "\n",
    "    vocabulary_list = [v.lower() for v in df['Specifications']]\n",
    "\n",
    "    return vocabulary_list"
   ]
  },
  {
   "cell_type": "code",
   "execution_count": 7,
   "metadata": {},
   "outputs": [],
   "source": [
    "def extract_nouns(vocabulary_list):\n",
    "    nouns = []\n",
    "    for v in vocabulary_list:\n",
    "        last_word = [w for w in v.split(' ')][-1]\n",
    "        nouns.append(last_word)\n",
    "    return nouns"
   ]
  },
  {
   "cell_type": "code",
   "execution_count": 8,
   "metadata": {},
   "outputs": [],
   "source": [
    "# getting page content\n",
    "def getPageContent(link):\n",
    "    html_response = requests.get(link)\n",
    "    html_text = html_response.text\n",
    "    soup = BeautifulSoup(html_text, \"lxml\")\n",
    "    return soup"
   ]
  },
  {
   "cell_type": "code",
   "execution_count": 9,
   "metadata": {},
   "outputs": [],
   "source": [
    "# function to cleanup text\n",
    "def clean_text(text):\n",
    "    \"\"\"\n",
    "    Function to clean up the passed text.\\n\n",
    "    All words are lemmatized afte encoding and basic regex parsing is performed.\\n\n",
    "    \\n\n",
    "    Parameters:\n",
    "    text - Text to be worked with\n",
    "    \"\"\"\n",
    "\n",
    "    # text cleaning\n",
    "    text = (unicodedata.normalize('NFKD', text).encode('ascii', 'ignore').decode('utf-8', 'ignore').lower())\n",
    "    words = re.sub(r'[^\\w\\s]', '', text).split()\n",
    "\n",
    "    # word list\n",
    "    return [word for word in words if word not in stopwords]"
   ]
  },
  {
   "cell_type": "code",
   "execution_count": 10,
   "metadata": {},
   "outputs": [],
   "source": [
    "# various sources of text\n",
    "def getContentFromTags(link):\n",
    "    soup = getPageContent(link)\n",
    "\n",
    "    para_texts = [element.text.strip() for element in soup.find_all(\"p\")]\n",
    "    for p in range(len(para_texts)):\n",
    "        if para_texts[p] == \"\":\n",
    "            continue\n",
    "        if para_texts[p][-1] != '.':\n",
    "            para_texts[p] += '. '\n",
    "\n",
    "    header_texts = [element.text.strip() for element in soup.find_all([\"h1\", \"h2\", \"h3\", \"h4\", \"h5\", \"h6\"])]\n",
    "    for p in range(len(header_texts)):\n",
    "        if header_texts[p] == \"\":\n",
    "            continue\n",
    "        if header_texts[p][-1] != '.':\n",
    "            header_texts[p] += '. '\n",
    "\n",
    "    span_texts = [element.text.strip() for element in soup.find_all(\"span\")]\n",
    "    for p in range(len(span_texts)):\n",
    "        if span_texts[p] == \"\":\n",
    "            continue\n",
    "        if span_texts[p][-1] != '.':\n",
    "            span_texts[p] += '. '\n",
    "\n",
    "    all_texts = para_texts + header_texts + span_texts\n",
    "    all_texts_string = \"\"\n",
    "    for v in all_texts:\n",
    "        all_texts_string += v\n",
    "\n",
    "    all_texts_string = all_texts_string.lower()\n",
    "\n",
    "    return all_texts_string"
   ]
  },
  {
   "cell_type": "code",
   "execution_count": 11,
   "metadata": {},
   "outputs": [],
   "source": [
    "def getTextFromAllBlogs():\n",
    "    curr_path = os.path.abspath(\"cumulative_vocab_match_prefix_suffix.ipynb\")\n",
    "    df_path = os.path.abspath(os.path.join(curr_path, \"../../\", \"alokeveer_analytics_data.csv\"))\n",
    "    df = pd.read_csv(df_path)\n",
    "\n",
    "    merged_string = \"\"\n",
    "\n",
    "    for link in df['Blog Link']:\n",
    "        st = getContentFromTags(str(link))\n",
    "        merged_string += st\n",
    "\n",
    "    return merged_string"
   ]
  },
  {
   "cell_type": "code",
   "execution_count": 12,
   "metadata": {},
   "outputs": [],
   "source": [
    "def getWordsToProcess():\n",
    "    vocabulary = extract_vocabulary()\n",
    "    nouns = extract_nouns(vocabulary)\n",
    "    # all_texts_string = getContentFromTags(link)\n",
    "    # words = clean_text(all_texts_string)\n",
    "    merged_string = getTextFromAllBlogs()\n",
    "    words = clean_text(merged_string)\n",
    "    return words, nouns"
   ]
  },
  {
   "cell_type": "code",
   "execution_count": 13,
   "metadata": {},
   "outputs": [],
   "source": [
    "def sort_dict_by_value(d, reverse = True):\n",
    "  return dict(sorted(d.items(), key = lambda x: x[1], reverse = reverse))"
   ]
  },
  {
   "cell_type": "code",
   "execution_count": 14,
   "metadata": {},
   "outputs": [],
   "source": [
    "def StoreResultInDict():\n",
    "    words, nouns = getWordsToProcess()\n",
    "    prefix_dict = defaultdict(dict)\n",
    "    suffix_dict = defaultdict(dict)\n",
    "\n",
    "    for noun in nouns:\n",
    "        for i in range(len(words)):\n",
    "            if words[i].startswith(noun) == True:\n",
    "                if i-1 >= 0:\n",
    "                    if words[i-1] in prefix_dict[words[i]].keys():\n",
    "                        prefix_dict[words[i]][words[i-1]] += 1\n",
    "                    else:\n",
    "                        prefix_dict[words[i]][words[i-1]] = 1\n",
    "                if i+1 < len(words):\n",
    "                    if words[i+1] in suffix_dict[words[i]].keys():\n",
    "                        suffix_dict[words[i]][words[i+1]] += 1\n",
    "                    else:\n",
    "                        suffix_dict[words[i]][words[i+1]] = 1\n",
    "\n",
    "    return prefix_dict, suffix_dict"
   ]
  },
  {
   "cell_type": "code",
   "execution_count": 15,
   "metadata": {},
   "outputs": [],
   "source": [
    "def getDataFrames():\n",
    "    prefix_dict, suffix_dict = StoreResultInDict()\n",
    "\n",
    "    all_keywords = list(set(prefix_dict.keys()).union(set(suffix_dict.keys())))\n",
    "    all_keywords.sort()\n",
    "    df = pd.DataFrame(columns=['Prefix3', 'Prefix2', 'Prefix1', 'Keyword', 'Suffix1', 'Suffix2', 'Suffix3'])\n",
    "\n",
    "    for keyword in all_keywords:\n",
    "        current_row = [\"-\", \"-\", \"-\", keyword, \"-\", \"-\", \"-\"]\n",
    "        j = 2\n",
    "        for (k, v) in sort_dict_by_value(prefix_dict[keyword]).items():\n",
    "            if j == -1:\n",
    "                break\n",
    "            current_row[j] = f\"({k}, {v})\"\n",
    "            j -= 1    \n",
    "\n",
    "        j = 4\n",
    "        for (k, v) in sort_dict_by_value(suffix_dict[keyword]).items():\n",
    "            if j == 7:\n",
    "                break\n",
    "            current_row[j] = f\"({k}, {v})\"\n",
    "            j += 1     \n",
    "\n",
    "        df.loc[len(df.index)] = current_row\n",
    "\n",
    "    return df.to_string()"
   ]
  },
  {
   "cell_type": "code",
   "execution_count": 16,
   "metadata": {},
   "outputs": [
    {
     "name": "stdout",
     "output_type": "stream",
     "text": [
      "e:\\Projects\\Curience-Work\\Analytics\\Alokeveer\\vocab\\cumulative_vocab_match_prefix_suffix.ipynb\n"
     ]
    }
   ],
   "source": [
    "# print summary\n",
    "# set output path\n",
    "curr_path = os.path.abspath(\"cumulative_vocab_match_prefix_suffix.ipynb\")\n",
    "print(curr_path)\n",
    "output_path = os.path.abspath(os.path.join(curr_path, \"../../\", \"Outputs/cumulative_vocab_match_prefix_suffix.txt\"))\n",
    "\n",
    "# write to file\n",
    "original_stdout = sys.stdout\n",
    "with open(output_path, \"w\") as f:\n",
    "    sys.stdout = f\n",
    "\n",
    "    print(\"Vocab match top 3 prefix suffix on my all blogs combined\")\n",
    "\n",
    "    cur_df = getDataFrames()\n",
    "    print(cur_df)\n",
    "    \n",
    "    # reset stdout\n",
    "    sys.stdout = original_stdout"
   ]
  }
 ],
 "metadata": {
  "interpreter": {
   "hash": "2be5faf79681da6f2a61fdfdd5405d65d042280f7fba6178067603e3a2925119"
  },
  "kernelspec": {
   "display_name": "Python 3.10.0 64-bit",
   "language": "python",
   "name": "python3"
  },
  "language_info": {
   "codemirror_mode": {
    "name": "ipython",
    "version": 3
   },
   "file_extension": ".py",
   "mimetype": "text/x-python",
   "name": "python",
   "nbconvert_exporter": "python",
   "pygments_lexer": "ipython3",
   "version": "3.10.0"
  },
  "orig_nbformat": 4
 },
 "nbformat": 4,
 "nbformat_minor": 2
}
